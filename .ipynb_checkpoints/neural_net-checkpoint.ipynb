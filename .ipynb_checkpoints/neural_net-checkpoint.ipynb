{
 "cells": [
  {
   "cell_type": "code",
   "execution_count": 285,
   "metadata": {},
   "outputs": [],
   "source": [
    "import pandas as pd\n",
    "import numpy as np\n",
    "import matplotlib.pyplot as plt\n",
    "from sklearn.model_selection import train_test_split\n",
    "from keras.models import Sequential\n",
    "from keras.layers.core import Dense, Activation, Flatten, Dropout\n",
    "from sklearn.metrics import roc_auc_score ## To compute the auc score\n",
    "import tensorflow as tf\n",
    "from keras import backend as K\n",
    "import keras\n",
    "from sklearn import preprocessing\n",
    "from keras.layers import Conv2D, MaxPooling2D, Flatten, BatchNormalization"
   ]
  },
  {
   "cell_type": "code",
   "execution_count": 286,
   "metadata": {},
   "outputs": [
    {
     "data": {
      "text/plain": [
       "(64667, 383)"
      ]
     },
     "execution_count": 286,
     "metadata": {},
     "output_type": "execute_result"
    }
   ],
   "source": [
    "data = pd.read_csv('train_2008.csv')\n",
    "data.shape"
   ]
  },
  {
   "cell_type": "code",
   "execution_count": 287,
   "metadata": {},
   "outputs": [
    {
     "name": "stderr",
     "output_type": "stream",
     "text": [
      "/miniconda3/envs/myenvir/lib/python3.6/site-packages/sklearn/preprocessing/data.py:625: DataConversionWarning: Data with input dtype int64 were all converted to float64 by StandardScaler.\n",
      "  return self.partial_fit(X, y)\n",
      "/miniconda3/envs/myenvir/lib/python3.6/site-packages/ipykernel_launcher.py:5: DataConversionWarning: Data with input dtype int64 were all converted to float64 by StandardScaler.\n",
      "  \"\"\"\n"
     ]
    }
   ],
   "source": [
    "y = np.array(data.pop('target').values)\n",
    "X = data\n",
    "\n",
    "s = preprocessing.StandardScaler().fit(X)\n",
    "X_norm = s.transform(X)\n",
    "\n",
    "X_train, X_test = train_test_split(X, test_size=0.2)\n",
    "y_train, y_test = train_test_split(y, test_size=0.2)\n",
    "\n",
    "X_train = np.array(X_train)\n",
    "X_test = np.array(X_test)"
   ]
  },
  {
   "cell_type": "code",
   "execution_count": 288,
   "metadata": {},
   "outputs": [
    {
     "data": {
      "text/plain": [
       "(51733, 382)"
      ]
     },
     "execution_count": 288,
     "metadata": {},
     "output_type": "execute_result"
    }
   ],
   "source": [
    "X_train.shape"
   ]
  },
  {
   "cell_type": "code",
   "execution_count": 289,
   "metadata": {},
   "outputs": [],
   "source": [
    "y_train = keras.utils.np_utils.to_categorical(y_train, 2)\n",
    "y_test2 = keras.utils.np_utils.to_categorical(y_test, 2)"
   ]
  },
  {
   "cell_type": "code",
   "execution_count": 290,
   "metadata": {},
   "outputs": [
    {
     "data": {
      "text/plain": [
       "(12934,)"
      ]
     },
     "execution_count": 290,
     "metadata": {},
     "output_type": "execute_result"
    }
   ],
   "source": [
    "y_test.shape"
   ]
  },
  {
   "cell_type": "code",
   "execution_count": 301,
   "metadata": {},
   "outputs": [],
   "source": [
    "model = Sequential()\n",
    "\n",
    "model.add(Dense(300))\n",
    "model.add(Activation('relu'))\n",
    "model.add(Dropout(0.5))\n",
    "\n",
    "model.add(Dense(500))\n",
    "model.add(Activation('sigmoid'))\n",
    "model.add(Dropout(0.5))\n",
    "\n",
    "model.add(Dense(600))\n",
    "model.add(Activation('sigmoid'))\n",
    "model.add(Dropout(0.5))\n",
    "\n",
    "model.add(Dense(600))\n",
    "model.add(Activation('sigmoid'))\n",
    "model.add(Dropout(0.5))\n",
    "\n",
    "model.add(Dense(500))\n",
    "model.add(Activation('sigmoid'))\n",
    "model.add(Dropout(0.5))\n",
    "\n",
    "model.add(Dense(300))\n",
    "model.add(Activation('sigmoid'))\n",
    "model.add(Dropout(0.5))\n",
    "\n",
    "model.add(Dense(2));\n",
    "model.add(BatchNormalization())\n",
    "model.add(Activation('softmax'))\n"
   ]
  },
  {
   "cell_type": "code",
   "execution_count": 302,
   "metadata": {},
   "outputs": [
    {
     "name": "stdout",
     "output_type": "stream",
     "text": [
      "Epoch 1/20\n",
      "51733/51733 [==============================] - 8s 145us/step - loss: 0.7083 - acc: 0.5471\n",
      "Epoch 2/20\n",
      "51733/51733 [==============================] - 4s 69us/step - loss: 0.6577 - acc: 0.6922\n",
      "Epoch 3/20\n",
      "51733/51733 [==============================] - 4s 70us/step - loss: 0.6376 - acc: 0.7410\n",
      "Epoch 4/20\n",
      "51733/51733 [==============================] - 4s 71us/step - loss: 0.6212 - acc: 0.7434\n",
      "Epoch 5/20\n",
      "51733/51733 [==============================] - 4s 74us/step - loss: 0.6069 - acc: 0.7435\n",
      "Epoch 6/20\n",
      "51733/51733 [==============================] - 4s 72us/step - loss: 0.5953 - acc: 0.7435\n",
      "Epoch 7/20\n",
      "51733/51733 [==============================] - 4s 72us/step - loss: 0.5862 - acc: 0.7435\n",
      "Epoch 8/20\n",
      "51733/51733 [==============================] - 4s 72us/step - loss: 0.5788 - acc: 0.7435\n",
      "Epoch 9/20\n",
      "51733/51733 [==============================] - 4s 72us/step - loss: 0.5743 - acc: 0.7435\n",
      "Epoch 10/20\n",
      "51733/51733 [==============================] - 4s 72us/step - loss: 0.5714 - acc: 0.7435\n",
      "Epoch 11/20\n",
      "51733/51733 [==============================] - 4s 72us/step - loss: 0.5707 - acc: 0.7435\n",
      "Epoch 12/20\n",
      "51733/51733 [==============================] - ETA: 0s - loss: 0.5704 - acc: 0.743 - 4s 72us/step - loss: 0.5703 - acc: 0.7435\n",
      "Epoch 13/20\n",
      "51733/51733 [==============================] - 4s 74us/step - loss: 0.5699 - acc: 0.7435\n",
      "Epoch 14/20\n",
      "51733/51733 [==============================] - 4s 72us/step - loss: 0.5700 - acc: 0.7435\n",
      "Epoch 15/20\n",
      "51733/51733 [==============================] - 4s 72us/step - loss: 0.5702 - acc: 0.7435\n",
      "Epoch 16/20\n",
      "51733/51733 [==============================] - 4s 72us/step - loss: 0.5700 - acc: 0.7435\n",
      "Epoch 17/20\n",
      "51733/51733 [==============================] - 4s 72us/step - loss: 0.5701 - acc: 0.7435\n",
      "Epoch 18/20\n",
      "51733/51733 [==============================] - 4s 72us/step - loss: 0.5702 - acc: 0.7435\n",
      "Epoch 19/20\n",
      "51733/51733 [==============================] - 4s 72us/step - loss: 0.5702 - acc: 0.7435\n",
      "Epoch 20/20\n",
      "51733/51733 [==============================] - 4s 72us/step - loss: 0.5702 - acc: 0.7435\n"
     ]
    }
   ],
   "source": [
    "model.compile(loss='categorical_crossentropy',optimizer='rmsprop', metrics=['accuracy'])\n",
    "#model.summary()\n",
    "fit = model.fit(X_train, y_train, batch_size=1000, epochs=20, verbose=1)"
   ]
  },
  {
   "cell_type": "code",
   "execution_count": 303,
   "metadata": {},
   "outputs": [
    {
     "name": "stdout",
     "output_type": "stream",
     "text": [
      "Test score: 0.5632436170088778\n",
      "Test accuracy: 0.7492655017782589\n"
     ]
    }
   ],
   "source": [
    "score = model.evaluate(X_test, y_test2, verbose=0)\n",
    "print('Test score:', score[0])\n",
    "print('Test accuracy:', score[1])"
   ]
  },
  {
   "cell_type": "code",
   "execution_count": 304,
   "metadata": {},
   "outputs": [
    {
     "name": "stdout",
     "output_type": "stream",
     "text": [
      "(12934,)\n",
      "(12934,)\n",
      "AUC score is 0.4951189409236305\n"
     ]
    }
   ],
   "source": [
    "print(model.predict(X_test)[:, 1].shape)\n",
    "print(y_test.shape)\n",
    "\n",
    "print(\"AUC score is\", roc_auc_score(y_test, model.predict_proba(X_test)[:, 1]))"
   ]
  },
  {
   "cell_type": "code",
   "execution_count": null,
   "metadata": {},
   "outputs": [],
   "source": []
  }
 ],
 "metadata": {
  "kernelspec": {
   "display_name": "Python 3",
   "language": "python",
   "name": "python3"
  },
  "language_info": {
   "codemirror_mode": {
    "name": "ipython",
    "version": 3
   },
   "file_extension": ".py",
   "mimetype": "text/x-python",
   "name": "python",
   "nbconvert_exporter": "python",
   "pygments_lexer": "ipython3",
   "version": "3.6.8"
  }
 },
 "nbformat": 4,
 "nbformat_minor": 2
}
