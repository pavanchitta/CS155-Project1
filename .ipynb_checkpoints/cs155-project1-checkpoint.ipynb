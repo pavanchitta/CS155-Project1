{
 "cells": [
  {
   "cell_type": "code",
   "execution_count": 1,
   "metadata": {},
   "outputs": [],
   "source": [
    "import pandas as pd\n",
    "import numpy as np\n",
    "import matplotlib.pyplot as plt\n",
    "from sklearn.model_selection import train_test_split\n",
    "from sklearn import preprocessing\n",
    "from sklearn.model_selection import GridSearchCV\n",
    "\n",
    "from sklearn.metrics import roc_auc_score ## To compute the auc score\n",
    "from sklearn import tree\n",
    "from sklearn.ensemble import RandomForestClassifier\n",
    "\n",
    "from mlxtend.classifier import EnsembleVoteClassifier\n",
    "from sklearn.naive_bayes import GaussianNB \n",
    "from sklearn.ensemble import VotingClassifier\n",
    "\n",
    "from sklearn.ensemble import GradientBoostingClassifier\n",
    "from sklearn import model_selection\n",
    "\n",
    "from sklearn.preprocessing import OneHotEncoder\n",
    "from sklearn.impute import SimpleImputer"
   ]
  },
  {
   "cell_type": "markdown",
   "metadata": {},
   "source": [
    "## Add cross validation"
   ]
  },
  {
   "cell_type": "code",
   "execution_count": 38,
   "metadata": {},
   "outputs": [
    {
     "name": "stderr",
     "output_type": "stream",
     "text": [
      "/Library/Frameworks/Python.framework/Versions/3.6/lib/python3.6/site-packages/sklearn/utils/validation.py:590: DataConversionWarning: Data with input dtype int64 was converted to float64 by the scale function.\n",
      "  warnings.warn(msg, DataConversionWarning)\n"
     ]
    }
   ],
   "source": [
    "## FOR NORMALIZATION\n",
    "data = pd.read_csv('train_2008.csv')\n",
    "y_train = data.pop('target').values\n",
    "X_train = preprocessing.scale(np.array(data))"
   ]
  },
  {
   "cell_type": "code",
   "execution_count": 9,
   "metadata": {},
   "outputs": [],
   "source": [
    "from sklearn import model_selection\n",
    "\n",
    "def cross_val(clf, X_train, y_train):\n",
    "    \n",
    "    result = model_selection.cross_validate(clf, X_train, y_train, scoring='roc_auc', cv=10, return_train_score=True)\n",
    "    return result"
   ]
  },
  {
   "cell_type": "code",
   "execution_count": 21,
   "metadata": {},
   "outputs": [],
   "source": [
    "def process_for_submission(y_pred, title):\n",
    "    lst = y_pred\n",
    "    print(len(lst))\n",
    "    \n",
    "    indexes = [i for i in range(len(lst))]\n",
    "    result = []\n",
    "    result.append(indexes)\n",
    "    result.append(lst)\n",
    "    result = np.array(result)\n",
    "    result = np.transpose(result)\n",
    "\n",
    "    \n",
    "    \n",
    "    #df = df.astype(int)\n",
    "    df = pd.DataFrame(result, columns=['id', 'target'])\n",
    "    df[\"id\"] = df[\"id\"].astype(\"int\")\n",
    "    df[\"target\"] = df[\"target\"].astype(\"float\")\n",
    "    df = df.to_csv (title + 'submission.csv', index = None, header=True)\n",
    "\n",
    "    \n",
    "    return df\n",
    "    "
   ]
  },
  {
   "cell_type": "code",
   "execution_count": 93,
   "metadata": {},
   "outputs": [
    {
     "name": "stdout",
     "output_type": "stream",
     "text": [
      "16000\n",
      "16000\n"
     ]
    }
   ],
   "source": [
    "process_for_submission(gbm.predict_proba(X_real)[:, 1])"
   ]
  },
  {
   "cell_type": "code",
   "execution_count": 2,
   "metadata": {},
   "outputs": [
    {
     "name": "stdout",
     "output_type": "stream",
     "text": [
      "Checking whether there is an H2O instance running at http://localhost:54321..... not found.\n",
      "Attempting to start a local H2O server...\n",
      "  Java Version: java version \"1.8.0_161\"; Java(TM) SE Runtime Environment (build 1.8.0_161-b12); Java HotSpot(TM) 64-Bit Server VM (build 25.161-b12, mixed mode)\n",
      "  Starting server from /Library/Frameworks/Python.framework/Versions/3.6/lib/python3.6/site-packages/h2o/backend/bin/h2o.jar\n",
      "  Ice root: /var/folders/cv/xqmn6z1x6l39r_575wkj9b780000gn/T/tmp9_u_uf97\n",
      "  JVM stdout: /var/folders/cv/xqmn6z1x6l39r_575wkj9b780000gn/T/tmp9_u_uf97/h2o_pavanchitta_started_from_python.out\n",
      "  JVM stderr: /var/folders/cv/xqmn6z1x6l39r_575wkj9b780000gn/T/tmp9_u_uf97/h2o_pavanchitta_started_from_python.err\n",
      "  Server is running at http://127.0.0.1:54321\n",
      "Connecting to H2O server at http://127.0.0.1:54321... successful.\n"
     ]
    },
    {
     "data": {
      "text/html": [
       "<div style=\"overflow:auto\"><table style=\"width:50%\"><tr><td>H2O cluster uptime:</td>\n",
       "<td>01 secs</td></tr>\n",
       "<tr><td>H2O cluster timezone:</td>\n",
       "<td>America/Los_Angeles</td></tr>\n",
       "<tr><td>H2O data parsing timezone:</td>\n",
       "<td>UTC</td></tr>\n",
       "<tr><td>H2O cluster version:</td>\n",
       "<td>3.22.1.3</td></tr>\n",
       "<tr><td>H2O cluster version age:</td>\n",
       "<td>16 days </td></tr>\n",
       "<tr><td>H2O cluster name:</td>\n",
       "<td>H2O_from_python_pavanchitta_r1zp2a</td></tr>\n",
       "<tr><td>H2O cluster total nodes:</td>\n",
       "<td>1</td></tr>\n",
       "<tr><td>H2O cluster free memory:</td>\n",
       "<td>3.556 Gb</td></tr>\n",
       "<tr><td>H2O cluster total cores:</td>\n",
       "<td>8</td></tr>\n",
       "<tr><td>H2O cluster allowed cores:</td>\n",
       "<td>8</td></tr>\n",
       "<tr><td>H2O cluster status:</td>\n",
       "<td>accepting new members, healthy</td></tr>\n",
       "<tr><td>H2O connection url:</td>\n",
       "<td>http://127.0.0.1:54321</td></tr>\n",
       "<tr><td>H2O connection proxy:</td>\n",
       "<td>None</td></tr>\n",
       "<tr><td>H2O internal security:</td>\n",
       "<td>False</td></tr>\n",
       "<tr><td>H2O API Extensions:</td>\n",
       "<td>XGBoost, Algos, AutoML, Core V3, Core V4</td></tr>\n",
       "<tr><td>Python version:</td>\n",
       "<td>3.6.2 final</td></tr></table></div>"
      ],
      "text/plain": [
       "--------------------------  ----------------------------------------\n",
       "H2O cluster uptime:         01 secs\n",
       "H2O cluster timezone:       America/Los_Angeles\n",
       "H2O data parsing timezone:  UTC\n",
       "H2O cluster version:        3.22.1.3\n",
       "H2O cluster version age:    16 days\n",
       "H2O cluster name:           H2O_from_python_pavanchitta_r1zp2a\n",
       "H2O cluster total nodes:    1\n",
       "H2O cluster free memory:    3.556 Gb\n",
       "H2O cluster total cores:    8\n",
       "H2O cluster allowed cores:  8\n",
       "H2O cluster status:         accepting new members, healthy\n",
       "H2O connection url:         http://127.0.0.1:54321\n",
       "H2O connection proxy:\n",
       "H2O internal security:      False\n",
       "H2O API Extensions:         XGBoost, Algos, AutoML, Core V3, Core V4\n",
       "Python version:             3.6.2 final\n",
       "--------------------------  ----------------------------------------"
      ]
     },
     "metadata": {},
     "output_type": "display_data"
    }
   ],
   "source": [
    "import h2o\n",
    "h2o.init()"
   ]
  },
  {
   "cell_type": "code",
   "execution_count": 173,
   "metadata": {},
   "outputs": [],
   "source": [
    "def drop_columns(data):\n",
    "    drop_columns = []\n",
    "    for column in data.columns:\n",
    "        if (data[column] == -1).sum() / data.shape[0] > 0.95:\n",
    "            drop_columns.append(column)\n",
    "    return data.drop(columns=drop_columns), drop_columns\n",
    "\n",
    "# To be performed after drop columns is called!!!\n",
    "def one_hot_encoding(data, categoricals):\n",
    "    categorical_idx = []\n",
    "    count = 0\n",
    "    for column in categoricals:\n",
    "        if column in data and data[column].nunique() < 10  and (data[column] < 0).sum() == 0:\n",
    "            count += 1\n",
    "            #print(data.count_vals)\n",
    "            categorical_idx.append(data.columns.get_loc(column))\n",
    "    print(count)\n",
    "    enc = OneHotEncoder(categorical_features=categorical_idx)\n",
    "    return enc.fit_transform(data).toarray(), categorical_idx\n",
    "    "
   ]
  },
  {
   "cell_type": "code",
   "execution_count": 174,
   "metadata": {},
   "outputs": [],
   "source": [
    "data = pd.read_csv('train_2008.csv')\n",
    "\n",
    "#sm_results = pd.read_csv('smart_mapping_results.csv')\n",
    "#idx = list(sm_results['Feature']).index('HUFINAL')\n",
    "#drop_cols_sm = list(sm_results['Feature'])[idx:]"
   ]
  },
  {
   "cell_type": "code",
   "execution_count": 175,
   "metadata": {},
   "outputs": [],
   "source": [
    "drop_cols_h2o = ['PRNLFSCH', 'PXDWLKO',  'PXERNRT',  'PRCOW1',  'PECOHAB',  \\\n",
    "        'PXHRWANT',  'PEERNUOT',  'GEREG', 'GTMETSTA', 'GTCSA', \\\n",
    "        'PEAFEVER', 'PRFAMNUM', 'PRFAMTYP', 'PEHSPNON', 'PRCITSHP', \\\n",
    "        'PUBUSCK1', 'PUBUSCK3', 'PEHRUSL1', 'PEHRWANT', 'PEHRRSN2', \\\n",
    "        'PUHROFF1', 'PUHROT1', 'PEHRACT1', 'PUHRCK1', 'PUHRCK3', 'PUHRCK4', \\\n",
    "        'PUHRCK5', 'PUHRCK7', 'PUJHCK1', 'PRFTLF', 'PRHRUSL', 'PRPTHRS', \\\n",
    "        'PRWNTJOB', 'PUIODP1', 'PUIODP2', 'PUIOCK3', 'PRAGNA', 'PRCOWPG', 'PRERELG', 'PEERNRT', 'PEERNHRY', 'PEERNCOV', 'PUNLFCK1', 'PUNLFCK2', 'PESCHFT', 'PRWERNAL', 'PRHERNAL', 'HXTENURE', 'PXHSPNON', 'PXHRRSN1', 'PXHRRSN3', 'PXHRAVL', 'PXDWWNTO', 'PXDW4WK', 'PXDWLKWK', 'PXDWAVL', 'PXDWAVR', 'PXJHWANT', 'PXERNUOT', 'PXERNHRO', 'PXERN', 'PXERNWKP', 'PXERNHRY', 'PXNLFJH', 'PXSCHENR', 'PXSCHLVL', 'PEDIPGED', 'PEGRPROF', 'PEMS123', 'PELNMOM', 'PEDISEAR', 'PXDISDRS']\n",
    "\n",
    "\n",
    "final_drop_cols_h2o = ['PXHRACT1', 'PEHRACTT', 'PXMARITL',  'PEHRRSN2', \\\n",
    "                       'PEERNHRO',  'PXDISEAR',  'PEHRACT1',  'PWLGWGT', 'PEERNUOT',  'HETELAVL', 'HEPHONEO', 'HRMIS', 'GEREG', 'GTMETSTA', 'PRTFAGE', 'PEAFEVER', 'PRFAMNUM', 'PRFAMTYP', 'PEHSPNON', 'PRCITSHP', 'PUBUSCK1', 'PUBUSCK3', 'PEMJOT', 'PEHRUSL1', 'PEHRFTPT', 'PEHRWANT', 'PUHROFF1', 'PUHROT1', 'PUHROT2', 'PUHRCK1', 'PUHRCK2', 'PUHRCK3', 'PUHRCK4', 'PUHRCK5', 'PUHRCK6', 'PUHRCK7', 'PUHRCK12', 'PUDWCK1', 'PUJHCK1', 'PRCIVLF', 'PREMPNOT', 'PREXPLF', 'PRFTLF', 'PRHRUSL', 'PRPTHRS', 'PRWKSCH', 'PRWNTJOB', 'PUIODP1', 'PUIODP2', 'PUIO1MFG', 'PUIOCK1', 'PUIOCK3', 'PRIOELG', 'PRAGNA', 'PRCOW1', 'PRCOWPG', 'PRDTCOW1', 'PRERELG', 'PEERNPER', 'PEERNRT', 'PEERNHRY', 'PTHR', 'PTWK', 'PTOT', 'PEERNLAB', 'PEERNCOV', 'PUNLFCK1', 'PUNLFCK2', 'PESCHFT', 'PRNLFSCH', 'PRWERNAL', 'PRHERNAL', 'HXTENURE', 'HXTELHHD', 'PXRRP', 'PXPARENT', 'PXSEX', 'PXAFWHN1', 'PXAFNOW', 'PXHSPNON', 'PXMLR', 'PXABSRSN', 'PXMJOT', 'PXMJNUM', 'PXHRUSL1', 'PXHRUSL2', 'PXHRFTPT', 'PXHRUSLT', 'PXHRWANT', 'PXHRRSN1', 'PXHRRSN2', 'PXHRACT2', 'PXHRACTT', 'PXHRRSN3', 'PXHRAVL', 'PXDWWNTO', 'PXDWLKO', 'PXDWWK', 'PXDW4WK', 'PXDWLKWK', 'PXDWAVL', 'PXDWAVR', 'PXJHWKO', 'PXJHRSN', 'PXJHWANT', 'PXIO1OCD', 'PXERNUOT', 'PXERNHRO', 'PXERN', 'PXERNWKP', 'PXERNRT', 'PXERNHRY', 'PXERNCOV', 'PXNLFJH', 'PXSCHENR', 'PEDIPGED', 'PEGRPROF', 'PEMS123', 'PWCMPWGT', 'PXAFEVER', 'PELNDAD', 'PELNMOM', 'PEDADTYP', 'PEMOMTYP', 'PECOHAB', 'PEDISEAR', 'PEDISEYE', 'PEDISPHY', 'PRDISFLG', 'PXDISEYE', 'PXDISPHY', 'PXDISDRS']"
   ]
  },
  {
   "cell_type": "code",
   "execution_count": 176,
   "metadata": {},
   "outputs": [],
   "source": [
    "#data.drop(columns=drop_cols_h2o, inplace=True)\n",
    "data.drop(columns=final_drop_cols_h2o, inplace=True)\n",
    "data, drop_columns = drop_columns(data)\n",
    "data = data.drop(columns=['id'])\n",
    "y_train = data.pop('target').values"
   ]
  },
  {
   "cell_type": "code",
   "execution_count": 177,
   "metadata": {},
   "outputs": [],
   "source": [
    "categoricals =['HURESPLI', 'HUFINAL', 'HUSPNISH', 'HETENURE', 'HEHOUSUT', \\\n",
    "               'HETELHHD', 'HETELAVL', 'HEPHONEO', 'HUTYPEA', 'HUTYPB', 'HUTYPC', \\\n",
    "               'HRINTSTA', 'HRHTYPE', 'HUINTTYP', 'HRLONGLK', 'HUBUS', 'GEREG', \\\n",
    "               'GESTCEN', 'GESTFIPS', 'GTCBSA', 'GTCO', 'GTCBSAST', 'GTMETSTA', \\\n",
    "               'PUPELIG', 'PERRP', 'PRTFAGE', 'PEMARITL', 'PESEX', 'PEAFEVER', \\\n",
    "               'PEAFNOW', 'PEEDUCA', 'PTDTRACE', 'PRDTHSP', 'PUCHINHH', 'PRFAMNUM', \\\n",
    "               'PRFAMREL', 'PRFAMTYP', 'PEHSPNON', 'PRMARSTA', 'PRPERTYP', \\\n",
    "               'PENATVTY', 'PEMNTVTY', 'PEFNTVTY', 'PRCITSHP', 'PUSLFPRX', \\\n",
    "               'PEMLR', 'PUWK', 'PUBUS1', 'PUBUS2OT', 'PUBUSCK1', 'PUBUSCK2', \\\n",
    "               'PUBUSCK3', 'PUBUSCK4', 'PURETOT', 'PUDIS', 'PERET1', 'PUDIS1', \\\n",
    "               'PUDIS2', 'PUABSOT', 'PULAY', 'PEABSRSN', 'PEABSPDO', 'PEMJOT', \\\n",
    "               'PEHRFTPT', 'PEHRUSLT', 'PEHRWANT', 'PEHRRSN1', 'PEHRRSN2', 'PEHRRSN3', \\\n",
    "               'PUHROFF1', 'PUHROT1', 'PEHRAVL', 'PULAYDT', 'PULAY6M', 'PELAYAVL', \\\n",
    "               'PULAYAVR', 'PELAYLK', 'PELAYFTO', 'PULK', 'PELKM1', 'PULKM2', \\\n",
    "               'PULKM3', 'PULKM4', 'PULKM5', 'PULKM6', 'PULKDK1', 'PULKDK2', \\\n",
    "               'PULKPS1', 'PULKPS2', 'PULKPS3', 'PELKAVL', 'PULKAVR', 'PELKLL1O', \\\n",
    "               'PELKLL2O', 'PELKLWO', 'PELKFTO', 'PEDWWNTO', 'PEDWRSN', 'PEDWLKO', \\\n",
    "               'PEDWWK', 'PEDW4WK', 'PEDWLKWK', 'PEDWAVL', 'PEDWAVR', 'PUDWCK1', 'PUJHDP1O', 'PEJHRSN', 'PEJHWANT', 'PRABSREA', 'PRCIVLF', 'PRDISC', 'PREMPHRS', 'PREMPNOT', 'PREXPLF', 'PRFTLF', 'PRJOBSEA', 'PRPTREA', 'PRUNTYPE', 'PRWKSCH', 'PRWKSTAT', 'PRWNTJOB', 'PUJHCK3', 'PUJHCK3', 'PUJHCK4', 'PUJHCK5', 'PUIODP1', 'PUIODP2', 'PUIODP3', 'PEIO1COW', 'PUIO1MFG', 'PEIO2COW', 'PUIO2MFG', 'PUIOCK1', 'PUIOCK2', 'PRIOELG', 'PRAGNA', 'PRCOW1', 'PRCOW2', 'PRCOWPG', 'PRDTCOW1', 'PRDTCOW2', 'PRDTIND1', 'PRDTIND2', 'PRDTOCC1', 'PRDTOCC2', 'PREMP', 'PRMJIND1', 'PRMJIND2', 'PRMJOCC1', 'PRMJOCC2', 'PRMJOCGR', 'PRNAGPWS', 'PRNAGWS', 'PRSJMJ', 'PRERELG', 'PEERNUOT', 'PEERNPER', 'PEERNRT', 'PEERNHRY', 'PEERNLAB', 'PEERNCOV', 'PENLFJH', 'PENLFRET', 'PENLFACT', 'PESCHENR', 'PESCHFT', 'PESCHLVL', 'PRNLFSCH', 'PRWERNAL', 'PRHERNAL', 'HXTENURE', 'HXHOUSUT', 'HXHOUSUT', 'HXTELAVL', 'HXPHONEO', 'PXINUSYR', 'PXRRP', 'PXPARENT', 'PXAGE', 'PXMARITL', 'PXSPOUSE', 'PXSEX', 'PXAFWHN1', 'PXAFNOW', 'PXEDUCA', 'PXRACE1', 'PXNATVTY', 'PXMNTVTY', 'PXFNTVTY', 'PXHSPNON', 'PXMLR', 'PXRET1', 'PXABSRSN', 'PXABSPDO', 'PXMJOT', 'PXMJNUM', 'PXMJNUM', 'PXHRUSL2', 'PXHRFTPT', 'PXHRUSLT', 'PXHRWANT', 'PXHRRSN1', 'PXHRRSN2', 'PXHRACT1', 'PXHRACT2', 'PXHRACTT', 'PXHRRSN3', 'PXHRAVL', 'PXLAYAVL', 'PXLAYLK', 'PXLAYDUR', 'PXLAYFTO', 'PXLKM1', 'PXLKAVL', 'PXLKLL1O', 'PXLKLL2O', 'PXLKLWO', 'PXLKDUR', 'PXLKFTO', 'PXDWWNTO', 'PXDWRSN', 'PXDWLKO', 'PXDWWK', 'PXDW4WK', 'PXDWLKWK', 'PXDWAVL', 'PXDWAVR', 'PXJHWKO', 'PXJHRSN', 'PXJHWANT', 'PXIO1COW', 'PXIO1ICD', 'PXIO1OCD', 'PXIO2COW', 'PXIO2ICD', 'PXIO2OCD', 'PXERNUOT', 'PXERNPER', 'PXERNH1O', 'PXERNWKP', 'PXERNRT', 'PXERNHRY', 'PXERNH2', 'PXERNLAB', 'PXERNCOV', 'PXNLFJH', 'PXNLFRET', 'PXNLFACT', 'PXSCHENR', 'PXSCHFT', 'PXSCHFT', 'PEDIPGED', 'PEHGCOMP', 'PEHGCOMP', 'PEGR6COR', 'PEMS123', 'PXDIPGED', 'PXHGCOMP', 'PXCYC', 'PXGRPROF', 'PXGR6COR', 'PXMS123', 'PEIO1ICD', 'PEIO2ICD', 'PEIO2OCD', 'PRIMIND1', 'PRIMIND2', 'PEAFWHN1', 'PEAFWHN2', 'PEAFWHN3', 'PEAFWHN4', 'PXAFEVER', 'PELNDAD', 'PEDADTYP', 'PEMOMTYP', 'PXLNDAD', 'PXLNMOM', 'PXDADTYP', 'PXMOMTYP', 'PXCOHAB', 'PEDISEAR', 'PEDISEYE', 'PEDISREM', 'PEDISPHY', 'PEDISDRS', 'PEDISOUT', 'PRDISFLG', 'PXDISEAR', 'PXDISEYE', 'PXDISREM', 'PXDISPHY', 'PXDISDRS', 'PXDISOUT', 'PES1', 'PES2', 'PES3', 'PES4', 'PES5', 'PES6', 'PES7', 'PUSCK4']"
   ]
  },
  {
   "cell_type": "code",
   "execution_count": 178,
   "metadata": {},
   "outputs": [
    {
     "name": "stdout",
     "output_type": "stream",
     "text": [
      "Parse progress: |█████████████████████████████████████████████████████████| 100%\n",
      "100\n"
     ]
    }
   ],
   "source": [
    "#data_arr, categorical_idx = one_hot_encoding(data, categoricals)\n",
    "#data_train_h2o=h2o.H2OFrame(data_arr)\n",
    "#data_labels_h2o = h2o.H2OFrame(y_train)\n",
    "\n",
    "real_data = pd.read_csv('test_2008.csv')\n",
    "#real_data.drop(columns=drop_cols_h2o, inplace=True)\n",
    "real_data.drop(columns=final_drop_cols_h2o, inplace=True)\n",
    "real_data = real_data.drop(columns=drop_columns)\n",
    "real_data = real_data.drop(columns=['id'])\n",
    "\n",
    "\n",
    "# PERFORM CORRECT IMPUTATION. SHOULD FIT BASED ON THE TRAIN DATA AND THEN IMPUTE\n",
    "train_cols = data.columns\n",
    "imp_mean = SimpleImputer(missing_values=-1, strategy='mean')\n",
    "data = pd.DataFrame(imp_mean.fit_transform(np.array(data)))\n",
    "data = data.round().astype(int)\n",
    "data.columns = train_cols\n",
    "\n",
    "test_cols = real_data.columns\n",
    "real_data = pd.DataFrame(imp_mean.transform(np.array(real_data)))\n",
    "real_data.columns = test_cols\n",
    "real_data = real_data.round().astype(int)\n",
    "\n",
    "# Concatenate the two in order to assign as categorical\n",
    "combined_data = pd.concat([data, real_data])\n",
    "#print(combined_data.head())\n",
    "combined_data_h2o=h2o.H2OFrame(combined_data)\n",
    "\n",
    "# Assign categorical features\n",
    "count = 0\n",
    "for col_name in categoricals:\n",
    "    if col_name in combined_data_h2o.names:\n",
    "        count += 1\n",
    "        combined_data_h2o[col_name] = combined_data_h2o[col_name].asfactor()\n",
    "print(count)\n"
   ]
  },
  {
   "cell_type": "markdown",
   "metadata": {},
   "source": [
    "## RUN THE FOLLOWING COMMAND ONLY FOR MY IMPLEMENTATION OF ONE HOT ENCODING"
   ]
  },
  {
   "cell_type": "code",
   "execution_count": 290,
   "metadata": {},
   "outputs": [
    {
     "name": "stdout",
     "output_type": "stream",
     "text": [
      "120\n"
     ]
    },
    {
     "name": "stderr",
     "output_type": "stream",
     "text": [
      "/Library/Frameworks/Python.framework/Versions/3.6/lib/python3.6/site-packages/sklearn/preprocessing/_encoders.py:363: FutureWarning: The handling of integer data will change in version 0.22. Currently, the categories are determined based on the range [0, max(values)], while in the future they will be determined based on the unique values.\n",
      "If you want the future behaviour and silence this warning, you can specify \"categories='auto'\".\n",
      "In case you used a LabelEncoder before this OneHotEncoder to convert the categories to integers, then you can now use the OneHotEncoder directly.\n",
      "  warnings.warn(msg, FutureWarning)\n",
      "/Library/Frameworks/Python.framework/Versions/3.6/lib/python3.6/site-packages/sklearn/preprocessing/_encoders.py:385: DeprecationWarning: The 'categorical_features' keyword is deprecated in version 0.20 and will be removed in 0.22. You can use the ColumnTransformer instead.\n",
      "  \"use the ColumnTransformer instead.\", DeprecationWarning)\n"
     ]
    }
   ],
   "source": [
    "combined_data, categorical_idx = one_hot_encoding(combined_data, categoricals)"
   ]
  },
  {
   "cell_type": "code",
   "execution_count": 179,
   "metadata": {
    "scrolled": false
   },
   "outputs": [
    {
     "name": "stdout",
     "output_type": "stream",
     "text": [
      "Parse progress: |█████████████████████████████████████████████████████████| 100%\n"
     ]
    }
   ],
   "source": [
    "\"\"\"train_data = combined_data[:64667, :]\n",
    "train_data = np.column_stack((train_data, y_train[:]))\n",
    "data_train_h2o = h2o.H2OFrame(train_data)\n",
    "data_train_h2o[-1]=data_train_h2o[-1].asfactor()\n",
    "real_data = combined_data[64667:]\n",
    "data_test_h2o=h2o.H2OFrame(real_data)\"\"\"\n",
    "data_train_h2o = combined_data_h2o[:64667, :]\n",
    "y_train_h2o = h2o.H2OFrame(y_train)\n",
    "#train_data = np.column_stack((np.array(data_train_data_h2o), y_train[:]))\n",
    "data_train_h2o = data_train_h2o.cbind(y_train_h2o)\n",
    "#data_train_h2o = h2o.H2OFrame(train_data)\n",
    "data_train_h2o[-1]=data_train_h2o[-1].asfactor()\n",
    "data_test_h2o = combined_data_h2o[64667:, :]\n",
    "#data_test_h2o=h2o.H2OFrame(real_data)"
   ]
  },
  {
   "cell_type": "markdown",
   "metadata": {},
   "source": [
    "## Only for grid search \n"
   ]
  },
  {
   "cell_type": "code",
   "execution_count": 183,
   "metadata": {},
   "outputs": [],
   "source": [
    "from h2o.grid.grid_search import H2OGridSearch\n",
    "from h2o.estimators.gbm import H2OGradientBoostingEstimator\n",
    "\n",
    "\n",
    "ss = data_train_h2o.split_frame(seed = 1)\n",
    "train = ss[0]\n",
    "val = ss[1]\n",
    "\n",
    "grid_search_gbm = H2OGradientBoostingEstimator(\n",
    "    \n",
    "  ntrees = 14000,                                                            \n",
    "  learn_rate = 0.01,                                                         \n",
    "  stopping_rounds = 10, stopping_tolerance = 0, stopping_metric = \"AUC\", \n",
    "  sample_rate = 0.9,                                                                                                          \n",
    "  ## fix a random number generator seed for reproducibility\n",
    "  seed = 1234,                                                             \n",
    "  score_tree_interval = 10, max_depth=2\n",
    ") \n",
    "\n",
    "hyper_params2 = {\n",
    "    'nbins_cats':list(range(100, 150, 10)),\n",
    "    'col_sample_rate':[0.7, 0.8, 0.9, 1.0],\n",
    "    'nbins':[15, 25, 50]\n",
    "}"
   ]
  },
  {
   "cell_type": "code",
   "execution_count": null,
   "metadata": {
    "scrolled": true
   },
   "outputs": [
    {
     "name": "stdout",
     "output_type": "stream",
     "text": [
      "gbm Grid Build progress: |█"
     ]
    }
   ],
   "source": [
    "grid = H2OGridSearch(grid_search_gbm, hyper_params2,\n",
    "                         grid_id='depth_grid',\n",
    "                         search_criteria={'strategy': \"Cartesian\"})\n",
    "#Train grid search\n",
    "grid.train(x=data_train_h2o.names[:-1],y=data_train_h2o.names[-1], training_frame=train, validation_frame=val)"
   ]
  },
  {
   "cell_type": "code",
   "execution_count": 23,
   "metadata": {},
   "outputs": [],
   "source": [
    "grid_sorted = grid.get_grid(sort_by='auc',decreasing=True)"
   ]
  },
  {
   "cell_type": "code",
   "execution_count": 38,
   "metadata": {
    "scrolled": true
   },
   "outputs": [
    {
     "name": "stdout",
     "output_type": "stream",
     "text": [
      "{'default': 0.1, 'actual': 0.02}\n"
     ]
    }
   ],
   "source": [
    "print(grid_sorted.models[0].params['learn_rate'])"
   ]
  },
  {
   "cell_type": "code",
   "execution_count": 39,
   "metadata": {},
   "outputs": [
    {
     "name": "stdout",
     "output_type": "stream",
     "text": [
      "gbm Model Build progress: |███████████████████████████████████████████████| 100%\n"
     ]
    }
   ],
   "source": [
    "best_gbm = grid_sorted.models[0]\n",
    "best_gbm.train(x=data_train_h2o.names[:255],\\\n",
    "            y=data_train_h2o.names[255], training_frame=data_train_h2o, model_id=\"GBM_Titanic\")"
   ]
  },
  {
   "cell_type": "code",
   "execution_count": 42,
   "metadata": {},
   "outputs": [
    {
     "name": "stdout",
     "output_type": "stream",
     "text": [
      "gbm prediction progress: |████████████████████████████████████████████████| 100%\n"
     ]
    }
   ],
   "source": [
    "f=best_gbm.predict(test_data=data_test_h2o)"
   ]
  },
  {
   "cell_type": "code",
   "execution_count": 43,
   "metadata": {},
   "outputs": [],
   "source": [
    "f = f.as_data_frame()"
   ]
  },
  {
   "cell_type": "code",
   "execution_count": 47,
   "metadata": {},
   "outputs": [
    {
     "name": "stdout",
     "output_type": "stream",
     "text": [
      "16000\n"
     ]
    }
   ],
   "source": [
    "preds = np.array(f['p1'])\n",
    "process_for_submission(preds, 'h2o_gbm4')"
   ]
  },
  {
   "cell_type": "markdown",
   "metadata": {},
   "source": [
    "## Train an h2o gbm"
   ]
  },
  {
   "cell_type": "code",
   "execution_count": 153,
   "metadata": {},
   "outputs": [],
   "source": [
    "from h2o.estimators.gbm import H2OGradientBoostingEstimator\n"
   ]
  },
  {
   "cell_type": "code",
   "execution_count": 164,
   "metadata": {},
   "outputs": [
    {
     "name": "stdout",
     "output_type": "stream",
     "text": [
      "gbm Model Build progress: |███████████████████████████████████████████████| 100%\n",
      "128 training score 0.8107116831135165\n",
      "128 validation score 0.7882415503028927\n"
     ]
    }
   ],
   "source": [
    "# try a range of values for `nbins`\n",
    "\n",
    "ss = data_train_h2o.split_frame(seed = 1)\n",
    "train = ss[0]\n",
    "val = ss[1]\n",
    "\n",
    "nbins_cats = [128]#[512, 256]#[1024, 2048]\n",
    "label = ['128']#[\"512\", \"256\"]#[\"1024\", \"2048\"]\n",
    "for key, num in enumerate(nbins_cats):\n",
    "    # initialize the GBM estimator and set a seed for reproducibility\n",
    "    eeg_gbm = H2OGradientBoostingEstimator(\n",
    "        \n",
    "  nbins_cats=num,\n",
    "  ntrees = 14000,                                                            \n",
    "  learn_rate = 0.01,                                                         \n",
    "  stopping_rounds = 10, stopping_tolerance = 0, stopping_metric = \"AUC\", \n",
    "  sample_rate = 0.9,                                                       \n",
    "  col_sample_rate = 0.8,                                                   \n",
    "  ## fix a random number generator seed for reproducibility\n",
    "  seed = 1234,                                                             \n",
    "  score_tree_interval = 10, max_depth=2)\n",
    "    \n",
    "    eeg_gbm.train(x=data_train_h2o.names[:-1],y=data_train_h2o.names[-1], training_frame=train, validation_frame=val, model_id=\"gbm_128_final_drop\")\n",
    "    # print the value used and AUC score for train and validation sets\n",
    "    print(label[key], 'training score', eeg_gbm.auc(train = True))\n",
    "    print(label[key], 'validation score', eeg_gbm.auc(valid = True))"
   ]
  },
  {
   "cell_type": "code",
   "execution_count": 165,
   "metadata": {},
   "outputs": [],
   "source": [
    "model = H2OGradientBoostingEstimator(## more trees is better if the learning rate is small enough \n",
    "  \n",
    "  \n",
    "  nbins_cats=128,\n",
    "  ## here, use \"more than enough\" trees - we have early stopping\n",
    "  ntrees = 14000,                                                            \n",
    "\n",
    "  ## smaller learning rate is better (this is a good value for most datasets, but see below for annealing)\n",
    "  learn_rate = 0.01,                                                         \n",
    "\n",
    "  ## early stopping once the validation AUC doesn't improve by at least 0.01% for 5 consecutive scoring events\n",
    "  stopping_rounds = 10, stopping_tolerance = 0, stopping_metric = \"AUC\", \n",
    "\n",
    "  ## sample 80% of rows per tree\n",
    "  sample_rate = 0.8,                                                       \n",
    "\n",
    "  ## sample 80% of columns per split\n",
    "  col_sample_rate = 0.8,                                                   \n",
    "\n",
    "  ## fix a random number generator seed for reproducibility\n",
    "  seed = 1234,                                                             \n",
    "\n",
    "  ## score every 10 trees to make early stopping reproducible (it depends on the scoring interval)\n",
    "  score_tree_interval = 10, max_depth=2)"
   ]
  },
  {
   "cell_type": "code",
   "execution_count": 166,
   "metadata": {},
   "outputs": [
    {
     "name": "stdout",
     "output_type": "stream",
     "text": [
      "gbm Model Build progress: |███████████████████████████████████████████████| 100%\n"
     ]
    }
   ],
   "source": [
    "model.train(x=data_train_h2o.names[:-1],y=data_train_h2o.names[-1], training_frame=data_train_h2o, model_id=\"gbm_128_final_drop_full\")"
   ]
  },
  {
   "cell_type": "code",
   "execution_count": 167,
   "metadata": {},
   "outputs": [
    {
     "name": "stdout",
     "output_type": "stream",
     "text": [
      "Model Details\n",
      "=============\n",
      "H2OGradientBoostingEstimator :  Gradient Boosting Machine\n",
      "Model Key:  gbm_128_final_drop_full\n",
      "\n",
      "\n",
      "ModelMetricsBinomial: gbm\n",
      "** Reported on train data. **\n",
      "\n",
      "MSE: 0.1290266336225183\n",
      "RMSE: 0.3592027750763046\n",
      "LogLoss: 0.4059850112236718\n",
      "Mean Per-Class Error: 0.23195108717439683\n",
      "AUC: 0.8497749173987691\n",
      "pr_auc: 0.6869967139816366\n",
      "Gini: 0.6995498347975382\n",
      "Confusion Matrix (Act/Pred) for max f1 @ threshold = 0.315009488525264: \n"
     ]
    },
    {
     "data": {
      "text/html": [
       "<div style=\"overflow:auto\"><table style=\"width:50%\"><tr><td><b></b></td>\n",
       "<td><b>0</b></td>\n",
       "<td><b>1</b></td>\n",
       "<td><b>Error</b></td>\n",
       "<td><b>Rate</b></td></tr>\n",
       "<tr><td>0</td>\n",
       "<td>39790.0</td>\n",
       "<td>8362.0</td>\n",
       "<td>0.1737</td>\n",
       "<td> (8362.0/48152.0)</td></tr>\n",
       "<tr><td>1</td>\n",
       "<td>4904.0</td>\n",
       "<td>11611.0</td>\n",
       "<td>0.2969</td>\n",
       "<td> (4904.0/16515.0)</td></tr>\n",
       "<tr><td>Total</td>\n",
       "<td>44694.0</td>\n",
       "<td>19973.0</td>\n",
       "<td>0.2051</td>\n",
       "<td> (13266.0/64667.0)</td></tr></table></div>"
      ],
      "text/plain": [
       "       0      1      Error    Rate\n",
       "-----  -----  -----  -------  -----------------\n",
       "0      39790  8362   0.1737   (8362.0/48152.0)\n",
       "1      4904   11611  0.2969   (4904.0/16515.0)\n",
       "Total  44694  19973  0.2051   (13266.0/64667.0)"
      ]
     },
     "metadata": {},
     "output_type": "display_data"
    },
    {
     "name": "stdout",
     "output_type": "stream",
     "text": [
      "Maximum Metrics: Maximum metrics at their respective thresholds\n",
      "\n"
     ]
    },
    {
     "data": {
      "text/html": [
       "<div style=\"overflow:auto\"><table style=\"width:50%\"><tr><td><b>metric</b></td>\n",
       "<td><b>threshold</b></td>\n",
       "<td><b>value</b></td>\n",
       "<td><b>idx</b></td></tr>\n",
       "<tr><td>max f1</td>\n",
       "<td>0.3150095</td>\n",
       "<td>0.6364284</td>\n",
       "<td>214.0</td></tr>\n",
       "<tr><td>max f2</td>\n",
       "<td>0.1834105</td>\n",
       "<td>0.7323852</td>\n",
       "<td>285.0</td></tr>\n",
       "<tr><td>max f0point5</td>\n",
       "<td>0.4471563</td>\n",
       "<td>0.6509369</td>\n",
       "<td>157.0</td></tr>\n",
       "<tr><td>max accuracy</td>\n",
       "<td>0.4471563</td>\n",
       "<td>0.8189494</td>\n",
       "<td>157.0</td></tr>\n",
       "<tr><td>max precision</td>\n",
       "<td>0.9754778</td>\n",
       "<td>1.0</td>\n",
       "<td>0.0</td></tr>\n",
       "<tr><td>max recall</td>\n",
       "<td>0.0216621</td>\n",
       "<td>1.0</td>\n",
       "<td>392.0</td></tr>\n",
       "<tr><td>max specificity</td>\n",
       "<td>0.9754778</td>\n",
       "<td>1.0</td>\n",
       "<td>0.0</td></tr>\n",
       "<tr><td>max absolute_mcc</td>\n",
       "<td>0.3299629</td>\n",
       "<td>0.5014635</td>\n",
       "<td>207.0</td></tr>\n",
       "<tr><td>max min_per_class_accuracy</td>\n",
       "<td>0.2644858</td>\n",
       "<td>0.7663233</td>\n",
       "<td>240.0</td></tr>\n",
       "<tr><td>max mean_per_class_accuracy</td>\n",
       "<td>0.2603968</td>\n",
       "<td>0.7680489</td>\n",
       "<td>242.0</td></tr></table></div>"
      ],
      "text/plain": [
       "metric                       threshold    value     idx\n",
       "---------------------------  -----------  --------  -----\n",
       "max f1                       0.315009     0.636428  214\n",
       "max f2                       0.18341      0.732385  285\n",
       "max f0point5                 0.447156     0.650937  157\n",
       "max accuracy                 0.447156     0.818949  157\n",
       "max precision                0.975478     1         0\n",
       "max recall                   0.0216621    1         392\n",
       "max specificity              0.975478     1         0\n",
       "max absolute_mcc             0.329963     0.501464  207\n",
       "max min_per_class_accuracy   0.264486     0.766323  240\n",
       "max mean_per_class_accuracy  0.260397     0.768049  242"
      ]
     },
     "metadata": {},
     "output_type": "display_data"
    },
    {
     "name": "stdout",
     "output_type": "stream",
     "text": [
      "Gains/Lift Table: Avg response rate: 25.54 %, avg score: 25.54 %\n",
      "\n"
     ]
    },
    {
     "data": {
      "text/html": [
       "<div style=\"overflow:auto\"><table style=\"width:50%\"><tr><td><b></b></td>\n",
       "<td><b>group</b></td>\n",
       "<td><b>cumulative_data_fraction</b></td>\n",
       "<td><b>lower_threshold</b></td>\n",
       "<td><b>lift</b></td>\n",
       "<td><b>cumulative_lift</b></td>\n",
       "<td><b>response_rate</b></td>\n",
       "<td><b>score</b></td>\n",
       "<td><b>cumulative_response_rate</b></td>\n",
       "<td><b>cumulative_score</b></td>\n",
       "<td><b>capture_rate</b></td>\n",
       "<td><b>cumulative_capture_rate</b></td>\n",
       "<td><b>gain</b></td>\n",
       "<td><b>cumulative_gain</b></td></tr>\n",
       "<tr><td></td>\n",
       "<td>1</td>\n",
       "<td>0.0100051</td>\n",
       "<td>0.8610220</td>\n",
       "<td>3.7461961</td>\n",
       "<td>3.7461961</td>\n",
       "<td>0.9567233</td>\n",
       "<td>0.8992295</td>\n",
       "<td>0.9567233</td>\n",
       "<td>0.8992295</td>\n",
       "<td>0.0374811</td>\n",
       "<td>0.0374811</td>\n",
       "<td>274.6196072</td>\n",
       "<td>274.6196072</td></tr>\n",
       "<tr><td></td>\n",
       "<td>2</td>\n",
       "<td>0.0200102</td>\n",
       "<td>0.8116404</td>\n",
       "<td>3.5827917</td>\n",
       "<td>3.6644939</td>\n",
       "<td>0.9149923</td>\n",
       "<td>0.8348241</td>\n",
       "<td>0.9358578</td>\n",
       "<td>0.8670268</td>\n",
       "<td>0.0358462</td>\n",
       "<td>0.0733273</td>\n",
       "<td>258.2791720</td>\n",
       "<td>266.4493896</td></tr>\n",
       "<tr><td></td>\n",
       "<td>3</td>\n",
       "<td>0.0299998</td>\n",
       "<td>0.7747128</td>\n",
       "<td>3.4489261</td>\n",
       "<td>3.5927120</td>\n",
       "<td>0.8808050</td>\n",
       "<td>0.7921723</td>\n",
       "<td>0.9175258</td>\n",
       "<td>0.8421010</td>\n",
       "<td>0.0344535</td>\n",
       "<td>0.1077808</td>\n",
       "<td>244.8926063</td>\n",
       "<td>259.2712030</td></tr>\n",
       "<tr><td></td>\n",
       "<td>4</td>\n",
       "<td>0.0400049</td>\n",
       "<td>0.7409716</td>\n",
       "<td>3.3770233</td>\n",
       "<td>3.5387690</td>\n",
       "<td>0.8624420</td>\n",
       "<td>0.7574725</td>\n",
       "<td>0.9037495</td>\n",
       "<td>0.8209357</td>\n",
       "<td>0.0337875</td>\n",
       "<td>0.1415683</td>\n",
       "<td>237.7023277</td>\n",
       "<td>253.8768998</td></tr>\n",
       "<tr><td></td>\n",
       "<td>5</td>\n",
       "<td>0.0500101</td>\n",
       "<td>0.7102885</td>\n",
       "<td>3.2559830</td>\n",
       "<td>3.4821943</td>\n",
       "<td>0.8315301</td>\n",
       "<td>0.7249007</td>\n",
       "<td>0.8893012</td>\n",
       "<td>0.8017228</td>\n",
       "<td>0.0325764</td>\n",
       "<td>0.1741447</td>\n",
       "<td>225.5983016</td>\n",
       "<td>248.2194313</td></tr>\n",
       "<tr><td></td>\n",
       "<td>6</td>\n",
       "<td>0.1000046</td>\n",
       "<td>0.5939922</td>\n",
       "<td>2.8607396</td>\n",
       "<td>3.1715150</td>\n",
       "<td>0.7305908</td>\n",
       "<td>0.6481664</td>\n",
       "<td>0.8099582</td>\n",
       "<td>0.7249564</td>\n",
       "<td>0.1430215</td>\n",
       "<td>0.3171662</td>\n",
       "<td>186.0739578</td>\n",
       "<td>217.1514994</td></tr>\n",
       "<tr><td></td>\n",
       "<td>7</td>\n",
       "<td>0.1499992</td>\n",
       "<td>0.5039596</td>\n",
       "<td>2.3290441</td>\n",
       "<td>2.8907203</td>\n",
       "<td>0.5948036</td>\n",
       "<td>0.5473295</td>\n",
       "<td>0.7382474</td>\n",
       "<td>0.6657536</td>\n",
       "<td>0.1164396</td>\n",
       "<td>0.4336058</td>\n",
       "<td>132.9044119</td>\n",
       "<td>189.0720320</td></tr>\n",
       "<tr><td></td>\n",
       "<td>8</td>\n",
       "<td>0.2000093</td>\n",
       "<td>0.4303234</td>\n",
       "<td>2.0353159</td>\n",
       "<td>2.6768362</td>\n",
       "<td>0.5197897</td>\n",
       "<td>0.4659585</td>\n",
       "<td>0.6836246</td>\n",
       "<td>0.6157971</td>\n",
       "<td>0.1017863</td>\n",
       "<td>0.5353921</td>\n",
       "<td>103.5315939</td>\n",
       "<td>167.6836157</td></tr>\n",
       "<tr><td></td>\n",
       "<td>9</td>\n",
       "<td>0.2999985</td>\n",
       "<td>0.3220043</td>\n",
       "<td>1.5569351</td>\n",
       "<td>2.3035743</td>\n",
       "<td>0.3976183</td>\n",
       "<td>0.3727565</td>\n",
       "<td>0.5882990</td>\n",
       "<td>0.5347919</td>\n",
       "<td>0.1556767</td>\n",
       "<td>0.6910687</td>\n",
       "<td>55.6935109</td>\n",
       "<td>130.3574292</td></tr>\n",
       "<tr><td></td>\n",
       "<td>10</td>\n",
       "<td>0.4000031</td>\n",
       "<td>0.2419546</td>\n",
       "<td>1.0638320</td>\n",
       "<td>1.9936267</td>\n",
       "<td>0.2716870</td>\n",
       "<td>0.2800208</td>\n",
       "<td>0.5091429</td>\n",
       "<td>0.4710967</td>\n",
       "<td>0.1063881</td>\n",
       "<td>0.7974569</td>\n",
       "<td>6.3831967</td>\n",
       "<td>99.3626729</td></tr>\n",
       "<tr><td></td>\n",
       "<td>11</td>\n",
       "<td>0.5000077</td>\n",
       "<td>0.1839009</td>\n",
       "<td>0.7532197</td>\n",
       "<td>1.7455376</td>\n",
       "<td>0.1923612</td>\n",
       "<td>0.2114292</td>\n",
       "<td>0.4457846</td>\n",
       "<td>0.4191616</td>\n",
       "<td>0.0753255</td>\n",
       "<td>0.8727823</td>\n",
       "<td>-24.6780326</td>\n",
       "<td>74.5537645</td></tr>\n",
       "<tr><td></td>\n",
       "<td>12</td>\n",
       "<td>0.5999969</td>\n",
       "<td>0.1389637</td>\n",
       "<td>0.5044446</td>\n",
       "<td>1.5387101</td>\n",
       "<td>0.1288277</td>\n",
       "<td>0.1605932</td>\n",
       "<td>0.3929639</td>\n",
       "<td>0.3760713</td>\n",
       "<td>0.0504390</td>\n",
       "<td>0.9232213</td>\n",
       "<td>-49.5555447</td>\n",
       "<td>53.8710121</td></tr>\n",
       "<tr><td></td>\n",
       "<td>13</td>\n",
       "<td>0.7000015</td>\n",
       "<td>0.1032194</td>\n",
       "<td>0.3723715</td>\n",
       "<td>1.3720830</td>\n",
       "<td>0.0950982</td>\n",
       "<td>0.1206648</td>\n",
       "<td>0.3504098</td>\n",
       "<td>0.3395830</td>\n",
       "<td>0.0372389</td>\n",
       "<td>0.9604602</td>\n",
       "<td>-62.7628537</td>\n",
       "<td>37.2082951</td></tr>\n",
       "<tr><td></td>\n",
       "<td>14</td>\n",
       "<td>0.7999907</td>\n",
       "<td>0.0723057</td>\n",
       "<td>0.2192184</td>\n",
       "<td>1.2279888</td>\n",
       "<td>0.0559852</td>\n",
       "<td>0.0872456</td>\n",
       "<td>0.3136103</td>\n",
       "<td>0.3080439</td>\n",
       "<td>0.0219195</td>\n",
       "<td>0.9823797</td>\n",
       "<td>-78.0781599</td>\n",
       "<td>22.7988811</td></tr>\n",
       "<tr><td></td>\n",
       "<td>15</td>\n",
       "<td>0.8999954</td>\n",
       "<td>0.0453617</td>\n",
       "<td>0.1338115</td>\n",
       "<td>1.1064073</td>\n",
       "<td>0.0341735</td>\n",
       "<td>0.0588004</td>\n",
       "<td>0.2825601</td>\n",
       "<td>0.2803487</td>\n",
       "<td>0.0133818</td>\n",
       "<td>0.9957614</td>\n",
       "<td>-86.6188466</td>\n",
       "<td>10.6407291</td></tr>\n",
       "<tr><td></td>\n",
       "<td>16</td>\n",
       "<td>1.0</td>\n",
       "<td>0.0018198</td>\n",
       "<td>0.0423837</td>\n",
       "<td>1.0</td>\n",
       "<td>0.0108242</td>\n",
       "<td>0.0312617</td>\n",
       "<td>0.2553853</td>\n",
       "<td>0.2554389</td>\n",
       "<td>0.0042386</td>\n",
       "<td>1.0</td>\n",
       "<td>-95.7616256</td>\n",
       "<td>0.0</td></tr></table></div>"
      ],
      "text/plain": [
       "    group    cumulative_data_fraction    lower_threshold    lift       cumulative_lift    response_rate    score      cumulative_response_rate    cumulative_score    capture_rate    cumulative_capture_rate    gain      cumulative_gain\n",
       "--  -------  --------------------------  -----------------  ---------  -----------------  ---------------  ---------  --------------------------  ------------------  --------------  -------------------------  --------  -----------------\n",
       "    1        0.0100051                   0.861022           3.7462     3.7462             0.956723         0.89923    0.956723                    0.89923             0.0374811       0.0374811                  274.62    274.62\n",
       "    2        0.0200102                   0.81164            3.58279    3.66449            0.914992         0.834824   0.935858                    0.867027            0.0358462       0.0733273                  258.279   266.449\n",
       "    3        0.0299998                   0.774713           3.44893    3.59271            0.880805         0.792172   0.917526                    0.842101            0.0344535       0.107781                   244.893   259.271\n",
       "    4        0.0400049                   0.740972           3.37702    3.53877            0.862442         0.757472   0.90375                     0.820936            0.0337875       0.141568                   237.702   253.877\n",
       "    5        0.0500101                   0.710289           3.25598    3.48219            0.83153          0.724901   0.889301                    0.801723            0.0325764       0.174145                   225.598   248.219\n",
       "    6        0.100005                    0.593992           2.86074    3.17151            0.730591         0.648166   0.809958                    0.724956            0.143021        0.317166                   186.074   217.151\n",
       "    7        0.149999                    0.50396            2.32904    2.89072            0.594804         0.547329   0.738247                    0.665754            0.11644         0.433606                   132.904   189.072\n",
       "    8        0.200009                    0.430323           2.03532    2.67684            0.51979          0.465959   0.683625                    0.615797            0.101786        0.535392                   103.532   167.684\n",
       "    9        0.299998                    0.322004           1.55694    2.30357            0.397618         0.372757   0.588299                    0.534792            0.155677        0.691069                   55.6935   130.357\n",
       "    10       0.400003                    0.241955           1.06383    1.99363            0.271687         0.280021   0.509143                    0.471097            0.106388        0.797457                   6.3832    99.3627\n",
       "    11       0.500008                    0.183901           0.75322    1.74554            0.192361         0.211429   0.445785                    0.419162            0.0753255       0.872782                   -24.678   74.5538\n",
       "    12       0.599997                    0.138964           0.504445   1.53871            0.128828         0.160593   0.392964                    0.376071            0.050439        0.923221                   -49.5555  53.871\n",
       "    13       0.700002                    0.103219           0.372371   1.37208            0.0950982        0.120665   0.35041                     0.339583            0.0372389       0.96046                    -62.7629  37.2083\n",
       "    14       0.799991                    0.0723057          0.219218   1.22799            0.0559852        0.0872456  0.31361                     0.308044            0.0219195       0.98238                    -78.0782  22.7989\n",
       "    15       0.899995                    0.0453617          0.133812   1.10641            0.0341735        0.0588004  0.28256                     0.280349            0.0133818       0.995761                   -86.6188  10.6407\n",
       "    16       1                           0.00181982         0.0423837  1                  0.0108242        0.0312617  0.255385                    0.255439            0.00423857      1                          -95.7616  0"
      ]
     },
     "metadata": {},
     "output_type": "display_data"
    },
    {
     "name": "stdout",
     "output_type": "stream",
     "text": [
      "\n",
      "Scoring History: \n"
     ]
    },
    {
     "data": {
      "text/html": [
       "<div style=\"overflow:auto\"><table style=\"width:50%\"><tr><td><b></b></td>\n",
       "<td><b>timestamp</b></td>\n",
       "<td><b>duration</b></td>\n",
       "<td><b>number_of_trees</b></td>\n",
       "<td><b>training_rmse</b></td>\n",
       "<td><b>training_logloss</b></td>\n",
       "<td><b>training_auc</b></td>\n",
       "<td><b>training_pr_auc</b></td>\n",
       "<td><b>training_lift</b></td>\n",
       "<td><b>training_classification_error</b></td></tr>\n",
       "<tr><td></td>\n",
       "<td>2019-02-11 01:00:41</td>\n",
       "<td> 0.045 sec</td>\n",
       "<td>0.0</td>\n",
       "<td>0.4360776</td>\n",
       "<td>0.5681745</td>\n",
       "<td>0.5</td>\n",
       "<td>0.0</td>\n",
       "<td>1.0</td>\n",
       "<td>0.7446147</td></tr>\n",
       "<tr><td></td>\n",
       "<td>2019-02-11 01:00:42</td>\n",
       "<td> 0.370 sec</td>\n",
       "<td>10.0</td>\n",
       "<td>0.4321580</td>\n",
       "<td>0.5592919</td>\n",
       "<td>0.7301020</td>\n",
       "<td>0.4538306</td>\n",
       "<td>2.8239485</td>\n",
       "<td>0.3856990</td></tr>\n",
       "<tr><td></td>\n",
       "<td>2019-02-11 01:00:42</td>\n",
       "<td> 0.657 sec</td>\n",
       "<td>20.0</td>\n",
       "<td>0.4288499</td>\n",
       "<td>0.5519344</td>\n",
       "<td>0.7324020</td>\n",
       "<td>0.4568146</td>\n",
       "<td>2.8406656</td>\n",
       "<td>0.3970650</td></tr>\n",
       "<tr><td></td>\n",
       "<td>2019-02-11 01:00:42</td>\n",
       "<td> 0.982 sec</td>\n",
       "<td>30.0</td>\n",
       "<td>0.4258802</td>\n",
       "<td>0.5454194</td>\n",
       "<td>0.7326986</td>\n",
       "<td>0.4592379</td>\n",
       "<td>2.8372776</td>\n",
       "<td>0.3980546</td></tr>\n",
       "<tr><td></td>\n",
       "<td>2019-02-11 01:00:43</td>\n",
       "<td> 1.377 sec</td>\n",
       "<td>40.0</td>\n",
       "<td>0.4233131</td>\n",
       "<td>0.5398465</td>\n",
       "<td>0.7331046</td>\n",
       "<td>0.4687411</td>\n",
       "<td>2.8372776</td>\n",
       "<td>0.3927351</td></tr>\n",
       "<tr><td>---</td>\n",
       "<td>---</td>\n",
       "<td>---</td>\n",
       "<td>---</td>\n",
       "<td>---</td>\n",
       "<td>---</td>\n",
       "<td>---</td>\n",
       "<td>---</td>\n",
       "<td>---</td>\n",
       "<td>---</td></tr>\n",
       "<tr><td></td>\n",
       "<td>2019-02-11 01:09:53</td>\n",
       "<td> 9 min 12.225 sec</td>\n",
       "<td>13960.0</td>\n",
       "<td>0.3592431</td>\n",
       "<td>0.4060649</td>\n",
       "<td>0.8497170</td>\n",
       "<td>0.6868034</td>\n",
       "<td>3.7401441</td>\n",
       "<td>0.2085762</td></tr>\n",
       "<tr><td></td>\n",
       "<td>2019-02-11 01:09:54</td>\n",
       "<td> 9 min 12.611 sec</td>\n",
       "<td>13970.0</td>\n",
       "<td>0.3592321</td>\n",
       "<td>0.4060437</td>\n",
       "<td>0.8497350</td>\n",
       "<td>0.6868740</td>\n",
       "<td>3.7461961</td>\n",
       "<td>0.2036278</td></tr>\n",
       "<tr><td></td>\n",
       "<td>2019-02-11 01:09:54</td>\n",
       "<td> 9 min 12.971 sec</td>\n",
       "<td>13980.0</td>\n",
       "<td>0.3592195</td>\n",
       "<td>0.4060225</td>\n",
       "<td>0.8497368</td>\n",
       "<td>0.6870745</td>\n",
       "<td>3.7461961</td>\n",
       "<td>0.2034577</td></tr>\n",
       "<tr><td></td>\n",
       "<td>2019-02-11 01:09:55</td>\n",
       "<td> 9 min 13.344 sec</td>\n",
       "<td>13990.0</td>\n",
       "<td>0.3592116</td>\n",
       "<td>0.4060044</td>\n",
       "<td>0.8497673</td>\n",
       "<td>0.6870012</td>\n",
       "<td>3.7461961</td>\n",
       "<td>0.2035196</td></tr>\n",
       "<tr><td></td>\n",
       "<td>2019-02-11 01:09:55</td>\n",
       "<td> 9 min 13.720 sec</td>\n",
       "<td>14000.0</td>\n",
       "<td>0.3592028</td>\n",
       "<td>0.4059850</td>\n",
       "<td>0.8497749</td>\n",
       "<td>0.6869967</td>\n",
       "<td>3.7461961</td>\n",
       "<td>0.2051433</td></tr></table></div>"
      ],
      "text/plain": [
       "     timestamp            duration          number_of_trees    training_rmse        training_logloss     training_auc        training_pr_auc     training_lift       training_classification_error\n",
       "---  -------------------  ----------------  -----------------  -------------------  -------------------  ------------------  ------------------  ------------------  -------------------------------\n",
       "     2019-02-11 01:00:41  0.045 sec         0.0                0.4360775613380602   0.5681745099971578   0.5                 0.0                 1.0                 0.7446147184808326\n",
       "     2019-02-11 01:00:42  0.370 sec         10.0               0.4321580263174725   0.5592919415512789   0.730101958013973   0.4538305913023565  2.82394848598778    0.38569904278843925\n",
       "     2019-02-11 01:00:42  0.657 sec         20.0               0.42884989081713704  0.5519344129430749   0.7324020068752916  0.4568146410827237  2.8406656275020454  0.39706496358266197\n",
       "     2019-02-11 01:00:42  0.982 sec         30.0               0.42588019844512265  0.5454194474755933   0.7326986329041696  0.4592378565102478  2.837277568115843   0.3980546492028392\n",
       "     2019-02-11 01:00:43  1.377 sec         40.0               0.4233130618618127   0.539846541342339    0.7331046272533787  0.4687411076347986  2.837277568115843   0.39273508899438664\n",
       "---  ---                  ---               ---                ---                  ---                  ---                 ---                 ---                 ---\n",
       "     2019-02-11 01:09:53  9 min 12.225 sec  13960.0            0.35924310796124354  0.4060648846240229   0.8497169505416721  0.6868034394291135  3.7401440590049506  0.20857624445234818\n",
       "     2019-02-11 01:09:54  9 min 12.611 sec  13970.0            0.3592320702902804   0.40604374003666244  0.8497350427853427  0.6868739629263948  3.746196072045412   0.2036278163514621\n",
       "     2019-02-11 01:09:54  9 min 12.971 sec  13980.0            0.359219458534773    0.4060225417735244   0.8497368240303927  0.6870745090910172  3.746196072045412   0.20345771413549416\n",
       "     2019-02-11 01:09:55  9 min 13.344 sec  13990.0            0.359211624054369    0.4060043545766239   0.8497672567246811  0.6870011639752803  3.746196072045412   0.20351956948675523\n",
       "     2019-02-11 01:09:55  9 min 13.720 sec  14000.0            0.3592027750763046   0.4059850112236718   0.8497749173987691  0.6869967139816366  3.746196072045412   0.20514327245735847"
      ]
     },
     "metadata": {},
     "output_type": "display_data"
    },
    {
     "name": "stdout",
     "output_type": "stream",
     "text": [
      "\n",
      "See the whole table with table.as_data_frame()\n",
      "Variable Importances: \n"
     ]
    },
    {
     "data": {
      "text/html": [
       "<div style=\"overflow:auto\"><table style=\"width:50%\"><tr><td><b>variable</b></td>\n",
       "<td><b>relative_importance</b></td>\n",
       "<td><b>scaled_importance</b></td>\n",
       "<td><b>percentage</b></td></tr>\n",
       "<tr><td>PEEDUCA</td>\n",
       "<td>48755.9960938</td>\n",
       "<td>1.0</td>\n",
       "<td>0.2551050</td></tr>\n",
       "<tr><td>GTCO</td>\n",
       "<td>25991.0878906</td>\n",
       "<td>0.5330850</td>\n",
       "<td>0.1359926</td></tr>\n",
       "<tr><td>PEAGE</td>\n",
       "<td>15643.6367188</td>\n",
       "<td>0.3208556</td>\n",
       "<td>0.0818519</td></tr>\n",
       "<tr><td>GESTFIPS</td>\n",
       "<td>13104.5957031</td>\n",
       "<td>0.2687792</td>\n",
       "<td>0.0685669</td></tr>\n",
       "<tr><td>GESTCEN</td>\n",
       "<td>12976.1718750</td>\n",
       "<td>0.2661451</td>\n",
       "<td>0.0678950</td></tr>\n",
       "<tr><td>---</td>\n",
       "<td>---</td>\n",
       "<td>---</td>\n",
       "<td>---</td></tr>\n",
       "<tr><td>PEIO1ICD</td>\n",
       "<td>11.5858431</td>\n",
       "<td>0.0002376</td>\n",
       "<td>0.0000606</td></tr>\n",
       "<tr><td>PXDISREM</td>\n",
       "<td>9.0491486</td>\n",
       "<td>0.0001856</td>\n",
       "<td>0.0000473</td></tr>\n",
       "<tr><td>PRMJIND1</td>\n",
       "<td>3.3087749</td>\n",
       "<td>0.0000679</td>\n",
       "<td>0.0000173</td></tr>\n",
       "<tr><td>PXSCHLVL</td>\n",
       "<td>1.5547959</td>\n",
       "<td>0.0000319</td>\n",
       "<td>0.0000081</td></tr>\n",
       "<tr><td>GTCSA</td>\n",
       "<td>0.0</td>\n",
       "<td>0.0</td>\n",
       "<td>0.0</td></tr></table></div>"
      ],
      "text/plain": [
       "variable    relative_importance    scaled_importance       percentage\n",
       "----------  ---------------------  ----------------------  ----------------------\n",
       "PEEDUCA     48755.99609375         1.0                     0.25510496917728154\n",
       "GTCO        25991.087890625        0.5330849530927085      0.13599262052758798\n",
       "PEAGE       15643.63671875         0.3208556479631712      0.08185187018400149\n",
       "GESTFIPS    13104.595703125        0.2687791605760029      0.06856689947423682\n",
       "GESTCEN     12976.171875           0.2661451496150113      0.06789495018922044\n",
       "---         ---                    ---                     ---\n",
       "PEIO1ICD    11.585843086242676     0.00023762909210110175  6.0620362216076955e-05\n",
       "PXDISREM    9.049148559570312      0.0001856007319011644   4.734766899092744e-05\n",
       "PRMJIND1    3.308774948120117      6.786395957858949e-05   1.731243331654435e-05\n",
       "PXSCHLVL    1.5547958612442017     3.188932615087132e-05   8.135125564802306e-06\n",
       "GTCSA       0.0                    0.0                     0.0"
      ]
     },
     "metadata": {},
     "output_type": "display_data"
    },
    {
     "name": "stdout",
     "output_type": "stream",
     "text": [
      "\n",
      "See the whole table with table.as_data_frame()\n"
     ]
    },
    {
     "data": {
      "text/plain": []
     },
     "execution_count": 167,
     "metadata": {},
     "output_type": "execute_result"
    }
   ],
   "source": [
    "model"
   ]
  },
  {
   "cell_type": "code",
   "execution_count": 168,
   "metadata": {},
   "outputs": [
    {
     "name": "stdout",
     "output_type": "stream",
     "text": [
      "gbm prediction progress: |████████████████████████████████████████████████| 100%\n"
     ]
    }
   ],
   "source": [
    "f=model.predict(test_data=data_test_h2o)"
   ]
  },
  {
   "cell_type": "code",
   "execution_count": 169,
   "metadata": {},
   "outputs": [],
   "source": [
    "f = f.as_data_frame()"
   ]
  },
  {
   "cell_type": "code",
   "execution_count": 170,
   "metadata": {},
   "outputs": [
    {
     "name": "stdout",
     "output_type": "stream",
     "text": [
      "       predict        p0        p1\n",
      "0            0  0.820122  0.179878\n",
      "1            0  0.880959  0.119041\n",
      "2            0  0.869231  0.130769\n",
      "3            1  0.505511  0.494489\n",
      "4            0  0.794365  0.205635\n",
      "5            0  0.944287  0.055713\n",
      "6            1  0.325513  0.674487\n",
      "7            1  0.258271  0.741729\n",
      "8            0  0.980636  0.019364\n",
      "9            0  0.885725  0.114275\n",
      "10           0  0.961739  0.038261\n",
      "11           1  0.431044  0.568956\n",
      "12           0  0.741953  0.258047\n",
      "13           0  0.769874  0.230126\n",
      "14           0  0.725573  0.274427\n",
      "15           0  0.961217  0.038783\n",
      "16           1  0.623914  0.376086\n",
      "17           0  0.946994  0.053006\n",
      "18           0  0.762518  0.237482\n",
      "19           0  0.768241  0.231759\n",
      "20           0  0.824305  0.175695\n",
      "21           0  0.894475  0.105525\n",
      "22           0  0.939463  0.060537\n",
      "23           0  0.948005  0.051995\n",
      "24           0  0.798725  0.201275\n",
      "25           0  0.977048  0.022952\n",
      "26           0  0.977321  0.022679\n",
      "27           1  0.585846  0.414154\n",
      "28           1  0.116746  0.883254\n",
      "29           1  0.633431  0.366569\n",
      "...        ...       ...       ...\n",
      "15970        1  0.630821  0.369179\n",
      "15971        0  0.811819  0.188181\n",
      "15972        1  0.448631  0.551369\n",
      "15973        0  0.914859  0.085141\n",
      "15974        1  0.119008  0.880992\n",
      "15975        0  0.720754  0.279246\n",
      "15976        0  0.956072  0.043928\n",
      "15977        1  0.663528  0.336472\n",
      "15978        0  0.884662  0.115338\n",
      "15979        0  0.892884  0.107116\n",
      "15980        1  0.473430  0.526570\n",
      "15981        0  0.893844  0.106156\n",
      "15982        0  0.978587  0.021413\n",
      "15983        1  0.391102  0.608898\n",
      "15984        0  0.772717  0.227283\n",
      "15985        1  0.664265  0.335735\n",
      "15986        1  0.627087  0.372913\n",
      "15987        0  0.927951  0.072049\n",
      "15988        1  0.568184  0.431816\n",
      "15989        0  0.864269  0.135731\n",
      "15990        1  0.355973  0.644027\n",
      "15991        1  0.448592  0.551408\n",
      "15992        0  0.774253  0.225747\n",
      "15993        0  0.920868  0.079132\n",
      "15994        0  0.797908  0.202092\n",
      "15995        0  0.816966  0.183034\n",
      "15996        1  0.474766  0.525234\n",
      "15997        0  0.927374  0.072626\n",
      "15998        0  0.952862  0.047138\n",
      "15999        0  0.834855  0.165145\n",
      "\n",
      "[16000 rows x 3 columns]\n"
     ]
    }
   ],
   "source": [
    "print(f)"
   ]
  },
  {
   "cell_type": "code",
   "execution_count": 171,
   "metadata": {},
   "outputs": [],
   "source": [
    "preds = np.array(f['p1'])"
   ]
  },
  {
   "cell_type": "code",
   "execution_count": 172,
   "metadata": {},
   "outputs": [
    {
     "name": "stdout",
     "output_type": "stream",
     "text": [
      "16000\n"
     ]
    }
   ],
   "source": [
    "process_for_submission(preds, 'h2o_gbm19')"
   ]
  },
  {
   "cell_type": "code",
   "execution_count": 31,
   "metadata": {},
   "outputs": [],
   "source": [
    "model_path = h2o.save_model(model=model, path=\"./mymodel\", force=True)"
   ]
  },
  {
   "cell_type": "code",
   "execution_count": null,
   "metadata": {},
   "outputs": [],
   "source": []
  },
  {
   "cell_type": "code",
   "execution_count": 203,
   "metadata": {},
   "outputs": [
    {
     "name": "stdout",
     "output_type": "stream",
     "text": [
      "/Users/pavanchitta/CS155-Project1/mymodel/GBM_Titanic\n"
     ]
    }
   ],
   "source": [
    "print(model_path)"
   ]
  },
  {
   "cell_type": "code",
   "execution_count": 204,
   "metadata": {},
   "outputs": [],
   "source": [
    "h2o_model1 = pd.read_csv('h2o_gbm3submission.csv')\n",
    "h2o_model2 = pd.read_csv('h2o_gbm6submission.csv')"
   ]
  },
  {
   "cell_type": "code",
   "execution_count": 133,
   "metadata": {},
   "outputs": [],
   "source": [
    "comb_h2o = pd.concat([h2o_model1, h2o_model2]).groupby(level=0).mean()"
   ]
  },
  {
   "cell_type": "code",
   "execution_count": 134,
   "metadata": {},
   "outputs": [],
   "source": [
    "comb_h2o.to_csv('comb_h2o_submission.csv', index=None)"
   ]
  },
  {
   "cell_type": "code",
   "execution_count": 267,
   "metadata": {},
   "outputs": [],
   "source": [
    "saved_model2 = h2o.load_model('/Users/pavanchitta/CS155-Project1/mymodel/h2o_gbm_15000_to_submit')"
   ]
  },
  {
   "cell_type": "code",
   "execution_count": 269,
   "metadata": {},
   "outputs": [
    {
     "name": "stdout",
     "output_type": "stream",
     "text": [
      "gbm prediction progress: |████████████████████████████████████████████████| 100%\n"
     ]
    }
   ],
   "source": [
    "f=saved_model2.predict(test_data=data_test_h2o)"
   ]
  },
  {
   "cell_type": "code",
   "execution_count": null,
   "metadata": {},
   "outputs": [],
   "source": []
  }
 ],
 "metadata": {
  "kernelspec": {
   "display_name": "Python 3",
   "language": "python",
   "name": "python3"
  },
  "language_info": {
   "codemirror_mode": {
    "name": "ipython",
    "version": 3
   },
   "file_extension": ".py",
   "mimetype": "text/x-python",
   "name": "python",
   "nbconvert_exporter": "python",
   "pygments_lexer": "ipython3",
   "version": "3.6.2"
  }
 },
 "nbformat": 4,
 "nbformat_minor": 2
}
