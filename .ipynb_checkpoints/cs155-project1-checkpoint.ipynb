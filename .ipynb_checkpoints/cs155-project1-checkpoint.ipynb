{
 "cells": [
  {
   "cell_type": "code",
   "execution_count": 173,
   "metadata": {},
   "outputs": [],
   "source": [
    "import pandas as pd\n",
    "import numpy as np\n",
    "import matplotlib.pyplot as plt\n",
    "from sklearn.model_selection import train_test_split\n",
    "from sklearn import preprocessing\n",
    "from sklearn.model_selection import GridSearchCV\n",
    "\n",
    "from sklearn.metrics import roc_auc_score ## To compute the auc score\n",
    "from sklearn import tree\n",
    "from sklearn.ensemble import RandomForestClassifier\n",
    "\n",
    "from mlxtend.classifier import EnsembleVoteClassifier\n",
    "from sklearn.naive_bayes import GaussianNB \n",
    "from sklearn.ensemble import VotingClassifier\n",
    "\n",
    "from sklearn.ensemble import GradientBoostingClassifier\n",
    "from sklearn import model_selection\n",
    "\n",
    "from sklearn.preprocessing import OneHotEncoder\n",
    "from sklearn.impute import SimpleImputer"
   ]
  },
  {
   "cell_type": "markdown",
   "metadata": {},
   "source": [
    "## Add cross validation"
   ]
  },
  {
   "cell_type": "code",
   "execution_count": 38,
   "metadata": {},
   "outputs": [
    {
     "name": "stderr",
     "output_type": "stream",
     "text": [
      "/Library/Frameworks/Python.framework/Versions/3.6/lib/python3.6/site-packages/sklearn/utils/validation.py:590: DataConversionWarning: Data with input dtype int64 was converted to float64 by the scale function.\n",
      "  warnings.warn(msg, DataConversionWarning)\n"
     ]
    }
   ],
   "source": [
    "## FOR NORMALIZATION\n",
    "data = pd.read_csv('train_2008.csv')\n",
    "y_train = data.pop('target').values\n",
    "X_train = preprocessing.scale(np.array(data))"
   ]
  },
  {
   "cell_type": "code",
   "execution_count": 9,
   "metadata": {},
   "outputs": [],
   "source": [
    "from sklearn import model_selection\n",
    "\n",
    "def cross_val(clf, X_train, y_train):\n",
    "    \n",
    "    result = model_selection.cross_validate(clf, X_train, y_train, scoring='roc_auc', cv=10, return_train_score=True)\n",
    "    return result"
   ]
  },
  {
   "cell_type": "code",
   "execution_count": 46,
   "metadata": {},
   "outputs": [],
   "source": [
    "def process_for_submission(y_pred, title):\n",
    "    lst = y_pred\n",
    "    print(len(lst))\n",
    "    \n",
    "    indexes = [i for i in range(len(lst))]\n",
    "    result = []\n",
    "    result.append(indexes)\n",
    "    result.append(lst)\n",
    "    result = np.array(result)\n",
    "    result = np.transpose(result)\n",
    "\n",
    "    \n",
    "    \n",
    "    #df = df.astype(int)\n",
    "    df = pd.DataFrame(result, columns=['id', 'target'])\n",
    "    df[\"id\"] = df[\"id\"].astype(\"int\")\n",
    "    df[\"target\"] = df[\"target\"].astype(\"float\")\n",
    "    df = df.to_csv (title + 'submission.csv', index = None, header=True)\n",
    "\n",
    "    \n",
    "    return df\n",
    "    "
   ]
  },
  {
   "cell_type": "code",
   "execution_count": 93,
   "metadata": {},
   "outputs": [
    {
     "name": "stdout",
     "output_type": "stream",
     "text": [
      "16000\n",
      "16000\n"
     ]
    }
   ],
   "source": [
    "process_for_submission(gbm.predict_proba(X_real)[:, 1])"
   ]
  },
  {
   "cell_type": "code",
   "execution_count": 14,
   "metadata": {},
   "outputs": [
    {
     "name": "stdout",
     "output_type": "stream",
     "text": [
      "Checking whether there is an H2O instance running at http://localhost:54321..... not found.\n",
      "Attempting to start a local H2O server...\n",
      "  Java Version: java version \"1.8.0_161\"; Java(TM) SE Runtime Environment (build 1.8.0_161-b12); Java HotSpot(TM) 64-Bit Server VM (build 25.161-b12, mixed mode)\n",
      "  Starting server from /Library/Frameworks/Python.framework/Versions/3.6/lib/python3.6/site-packages/h2o/backend/bin/h2o.jar\n",
      "  Ice root: /var/folders/cv/xqmn6z1x6l39r_575wkj9b780000gn/T/tmpmjwbouc7\n",
      "  JVM stdout: /var/folders/cv/xqmn6z1x6l39r_575wkj9b780000gn/T/tmpmjwbouc7/h2o_pavanchitta_started_from_python.out\n",
      "  JVM stderr: /var/folders/cv/xqmn6z1x6l39r_575wkj9b780000gn/T/tmpmjwbouc7/h2o_pavanchitta_started_from_python.err\n",
      "  Server is running at http://127.0.0.1:54321\n",
      "Connecting to H2O server at http://127.0.0.1:54321... successful.\n"
     ]
    },
    {
     "data": {
      "text/html": [
       "<div style=\"overflow:auto\"><table style=\"width:50%\"><tr><td>H2O cluster uptime:</td>\n",
       "<td>01 secs</td></tr>\n",
       "<tr><td>H2O cluster timezone:</td>\n",
       "<td>America/Los_Angeles</td></tr>\n",
       "<tr><td>H2O data parsing timezone:</td>\n",
       "<td>UTC</td></tr>\n",
       "<tr><td>H2O cluster version:</td>\n",
       "<td>3.22.1.3</td></tr>\n",
       "<tr><td>H2O cluster version age:</td>\n",
       "<td>14 days, 17 hours and 51 minutes </td></tr>\n",
       "<tr><td>H2O cluster name:</td>\n",
       "<td>H2O_from_python_pavanchitta_rsskrp</td></tr>\n",
       "<tr><td>H2O cluster total nodes:</td>\n",
       "<td>1</td></tr>\n",
       "<tr><td>H2O cluster free memory:</td>\n",
       "<td>3.556 Gb</td></tr>\n",
       "<tr><td>H2O cluster total cores:</td>\n",
       "<td>8</td></tr>\n",
       "<tr><td>H2O cluster allowed cores:</td>\n",
       "<td>8</td></tr>\n",
       "<tr><td>H2O cluster status:</td>\n",
       "<td>accepting new members, healthy</td></tr>\n",
       "<tr><td>H2O connection url:</td>\n",
       "<td>http://127.0.0.1:54321</td></tr>\n",
       "<tr><td>H2O connection proxy:</td>\n",
       "<td>None</td></tr>\n",
       "<tr><td>H2O internal security:</td>\n",
       "<td>False</td></tr>\n",
       "<tr><td>H2O API Extensions:</td>\n",
       "<td>XGBoost, Algos, AutoML, Core V3, Core V4</td></tr>\n",
       "<tr><td>Python version:</td>\n",
       "<td>3.6.2 final</td></tr></table></div>"
      ],
      "text/plain": [
       "--------------------------  ----------------------------------------\n",
       "H2O cluster uptime:         01 secs\n",
       "H2O cluster timezone:       America/Los_Angeles\n",
       "H2O data parsing timezone:  UTC\n",
       "H2O cluster version:        3.22.1.3\n",
       "H2O cluster version age:    14 days, 17 hours and 51 minutes\n",
       "H2O cluster name:           H2O_from_python_pavanchitta_rsskrp\n",
       "H2O cluster total nodes:    1\n",
       "H2O cluster free memory:    3.556 Gb\n",
       "H2O cluster total cores:    8\n",
       "H2O cluster allowed cores:  8\n",
       "H2O cluster status:         accepting new members, healthy\n",
       "H2O connection url:         http://127.0.0.1:54321\n",
       "H2O connection proxy:\n",
       "H2O internal security:      False\n",
       "H2O API Extensions:         XGBoost, Algos, AutoML, Core V3, Core V4\n",
       "Python version:             3.6.2 final\n",
       "--------------------------  ----------------------------------------"
      ]
     },
     "metadata": {},
     "output_type": "display_data"
    }
   ],
   "source": [
    "import h2o\n",
    "h2o.init()"
   ]
  },
  {
   "cell_type": "code",
   "execution_count": 254,
   "metadata": {},
   "outputs": [],
   "source": [
    "def drop_columns(data):\n",
    "    drop_columns = []\n",
    "    for column in data.columns:\n",
    "        if (data[column] == -1).sum() / data.shape[0] > 0.8:\n",
    "            drop_columns.append(column)\n",
    "    return data.drop(columns=drop_columns), drop_columns\n",
    "\n",
    "# To be performed after drop columns is called!!!\n",
    "def one_hot_encoding(data, categoricals):\n",
    "    categorical_idx = []\n",
    "    count = 0\n",
    "    for column in categoricals:\n",
    "        if column in data and data[column].nunique() < 10  and (data[column] < 0).sum() == 0:\n",
    "            count += 1\n",
    "            #print(data.count_vals)\n",
    "            categorical_idx.append(data.columns.get_loc(column))\n",
    "    print(count)\n",
    "    enc = OneHotEncoder(categorical_features=categorical_idx)\n",
    "    return enc.fit_transform(data).toarray(), categorical_idx\n",
    "    "
   ]
  },
  {
   "cell_type": "code",
   "execution_count": 255,
   "metadata": {},
   "outputs": [],
   "source": [
    "data = pd.read_csv('train_2008.csv')\n",
    "\n",
    "sm_results = pd.read_csv('smart_mapping_results.csv')\n",
    "idx = list(sm_results['Feature']).index('HUFINAL')\n",
    "drop_cols_sm = list(sm_results['Feature'])[idx:]\n",
    "data.drop(columns=drop_cols_sm, inplace=True)\n",
    "\n",
    "#data, drop_columns = drop_columns(data)\n",
    "data = data.drop(columns=['id'])\n",
    "y_train = data.pop('target').values\n",
    "\n",
    "categoricals =['HURESPLI', 'HUFINAL', 'HUSPNISH', 'HETENURE', 'HEHOUSUT', \\\n",
    "               'HETELHHD', 'HETELAVL', 'HEPHONEO', 'HUTYPEA', 'HUTYPB', 'HUTYPC', \\\n",
    "               'HRINTSTA', 'HRHTYPE', 'HUINTTYP', 'HRLONGLK', 'HUBUS', 'GEREG', \\\n",
    "               'GESTCEN', 'GESTFIPS', 'GTCBSA', 'GTCO', 'GTCBSAST', 'GTMETSTA', \\\n",
    "               'PUPELIG', 'PERRP', 'PRTFAGE', 'PEMARITL', 'PESEX', 'PEAFEVER', \\\n",
    "               'PEAFNOW', 'PEEDUCA', 'PTDTRACE', 'PRDTHSP', 'PUCHINHH', 'PRFAMNUM', \\\n",
    "               'PRFAMREL', 'PRFAMTYP', 'PEHSPNON', 'PRMARSTA', 'PRPERTYP', \\\n",
    "               'PENATVTY', 'PEMNTVTY', 'PEFNTVTY', 'PRCITSHP', 'PUSLFPRX', \\\n",
    "               'PEMLR', 'PUWK', 'PUBUS1', 'PUBUS2OT', 'PUBUSCK1', 'PUBUSCK2', \\\n",
    "               'PUBUSCK3', 'PUBUSCK4', 'PURETOT', 'PUDIS', 'PERET1', 'PUDIS1', \\\n",
    "               'PUDIS2', 'PUABSOT', 'PULAY', 'PEABSRSN', 'PEABSPDO', 'PEMJOT', \\\n",
    "               'PEHRFTPT', 'PEHRUSLT', 'PEHRWANT', 'PEHRRSN1', 'PEHRRSN2', 'PEHRRSN3', \\\n",
    "               'PUHROFF1', 'PUHROT1', 'PEHRAVL', 'PULAYDT', 'PULAY6M', 'PELAYAVL', \\\n",
    "               'PULAYAVR', 'PELAYLK', 'PELAYFTO', 'PULK', 'PELKM1', 'PULKM2', \\\n",
    "               'PULKM3', 'PULKM4', 'PULKM5', 'PULKM6', 'PULKDK1', 'PULKDK2', \\\n",
    "               'PULKPS1', 'PULKPS2', 'PULKPS3', 'PELKAVL', 'PULKAVR', 'PELKLL1O', \\\n",
    "               'PELKLL2O', 'PELKLWO', 'PELKFTO', 'PEDWWNTO', 'PEDWRSN', 'PEDWLKO', \\\n",
    "               'PEDWWK', 'PEDW4WK', 'PEDWLKWK', 'PEDWAVL', 'PEDWAVR', 'PUDWCK1', 'PUJHDP1O', 'PEJHRSN', 'PEJHWANT', 'PRABSREA', 'PRCIVLF', 'PRDISC', 'PREMPHRS', 'PREMPNOT', 'PREXPLF', 'PRFTLF', 'PRJOBSEA', 'PRPTREA', 'PRUNTYPE', 'PRWKSCH', 'PRWKSTAT', 'PRWNTJOB', 'PUJHCK3', 'PUJHCK3', 'PUJHCK4', 'PUJHCK5', 'PUIODP1', 'PUIODP2', 'PUIODP3', 'PEIO1COW', 'PUIO1MFG', 'PEIO2COW', 'PUIO2MFG', 'PUIOCK1', 'PUIOCK2', 'PRIOELG', 'PRAGNA', 'PRCOW1', 'PRCOW2', 'PRCOWPG', 'PRDTCOW1', 'PRDTCOW2', 'PRDTIND1', 'PRDTIND2', 'PRDTOCC1', 'PRDTOCC2', 'PREMP', 'PRMJIND1', 'PRMJIND2', 'PRMJOCC1', 'PRMJOCC2', 'PRMJOCGR', 'PRNAGPWS', 'PRNAGWS', 'PRSJMJ', 'PRERELG', 'PEERNUOT', 'PEERNPER', 'PEERNRT', 'PEERNHRY', 'PEERNLAB', 'PEERNCOV', 'PENLFJH', 'PENLFRET', 'PENLFACT', 'PESCHENR', 'PESCHFT', 'PESCHLVL', 'PRNLFSCH', 'PRWERNAL', 'PRHERNAL', 'HXTENURE', 'HXHOUSUT', 'HXHOUSUT', 'HXTELAVL', 'HXPHONEO', 'PXINUSYR', 'PXRRP', 'PXPARENT', 'PXAGE', 'PXMARITL', 'PXSPOUSE', 'PXSEX', 'PXAFWHN1', 'PXAFNOW', 'PXEDUCA', 'PXRACE1', 'PXNATVTY', 'PXMNTVTY', 'PXFNTVTY', 'PXHSPNON', 'PXMLR', 'PXRET1', 'PXABSRSN', 'PXABSPDO', 'PXMJOT', 'PXMJNUM', 'PXMJNUM', 'PXHRUSL2', 'PXHRFTPT', 'PXHRUSLT', 'PXHRWANT', 'PXHRRSN1', 'PXHRRSN2', 'PXHRACT1', 'PXHRACT2', 'PXHRACTT', 'PXHRRSN3', 'PXHRAVL', 'PXLAYAVL', 'PXLAYLK', 'PXLAYDUR', 'PXLAYFTO', 'PXLKM1', 'PXLKAVL', 'PXLKLL1O', 'PXLKLL2O', 'PXLKLWO', 'PXLKDUR', 'PXLKFTO', 'PXDWWNTO', 'PXDWRSN', 'PXDWLKO', 'PXDWWK', 'PXDW4WK', 'PXDWLKWK', 'PXDWAVL', 'PXDWAVR', 'PXJHWKO', 'PXJHRSN', 'PXJHWANT', 'PXIO1COW', 'PXIO1ICD', 'PXIO1OCD', 'PXIO2COW', 'PXIO2ICD', 'PXIO2OCD', 'PXERNUOT', 'PXERNPER', 'PXERNH1O', 'PXERNWKP', 'PXERNRT', 'PXERNHRY', 'PXERNH2', 'PXERNLAB', 'PXERNCOV', 'PXNLFJH', 'PXNLFRET', 'PXNLFACT', 'PXSCHENR', 'PXSCHFT', 'PXSCHFT', 'PEDIPGED', 'PEHGCOMP', 'PEHGCOMP', 'PEGR6COR', 'PEMS123', 'PXDIPGED', 'PXHGCOMP', 'PXCYC', 'PXGRPROF', 'PXGR6COR', 'PXMS123', 'PEIO1ICD', 'PEIO2ICD', 'PEIO2OCD', 'PRIMIND1', 'PRIMIND2', 'PEAFWHN1', 'PEAFWHN2', 'PEAFWHN3', 'PEAFWHN4', 'PXAFEVER', 'PELNDAD', 'PEDADTYP', 'PEMOMTYP', 'PXLNDAD', 'PXLNMOM', 'PXDADTYP', 'PXMOMTYP', 'PXCOHAB', 'PEDISEAR', 'PEDISEYE', 'PEDISREM', 'PEDISPHY', 'PEDISDRS', 'PEDISOUT', 'PRDISFLG', 'PXDISEAR', 'PXDISEYE', 'PXDISREM', 'PXDISPHY', 'PXDISDRS', 'PXDISOUT', 'PES1', 'PES2', 'PES3', 'PES4', 'PES5', 'PES6', 'PES7', 'PUSCK4']"
   ]
  },
  {
   "cell_type": "code",
   "execution_count": 256,
   "metadata": {},
   "outputs": [],
   "source": [
    "#data_arr, categorical_idx = one_hot_encoding(data, categoricals)\n",
    "#data_train_h2o=h2o.H2OFrame(data_arr)\n",
    "#data_labels_h2o = h2o.H2OFrame(y_train)\n",
    "\n",
    "real_data = pd.read_csv('test_2008.csv')\n",
    "real_data.drop(columns=drop_cols_sm, inplace=True)\n",
    "#real_data = real_data.drop(columns=drop_columns)\n",
    "real_data = real_data.drop(columns=['id'])\n",
    "\n",
    "\n",
    "combined_data = pd.concat([data, real_data])\n",
    "\n",
    "# Use imputation to fill in remaining -1 values\n",
    "# store the columns to re-add after imputing\n",
    "cols = combined_data.columns\n",
    "imp_mean = SimpleImputer(missing_values=-1, strategy='mean')\n",
    "combined_data = pd.DataFrame(imp_mean.fit_transform(np.array(combined_data)))\n",
    "combined_data.columns = cols"
   ]
  },
  {
   "cell_type": "markdown",
   "metadata": {},
   "source": [
    "## RUN THE FOLLOWING COMMAND ONLY FOR ONE HOT ENCODING"
   ]
  },
  {
   "cell_type": "code",
   "execution_count": 257,
   "metadata": {},
   "outputs": [
    {
     "name": "stdout",
     "output_type": "stream",
     "text": [
      "44\n"
     ]
    },
    {
     "name": "stderr",
     "output_type": "stream",
     "text": [
      "/Library/Frameworks/Python.framework/Versions/3.6/lib/python3.6/site-packages/sklearn/preprocessing/_encoders.py:363: FutureWarning: The handling of integer data will change in version 0.22. Currently, the categories are determined based on the range [0, max(values)], while in the future they will be determined based on the unique values.\n",
      "If you want the future behaviour and silence this warning, you can specify \"categories='auto'\".\n",
      "In case you used a LabelEncoder before this OneHotEncoder to convert the categories to integers, then you can now use the OneHotEncoder directly.\n",
      "  warnings.warn(msg, FutureWarning)\n",
      "/Library/Frameworks/Python.framework/Versions/3.6/lib/python3.6/site-packages/sklearn/preprocessing/_encoders.py:385: DeprecationWarning: The 'categorical_features' keyword is deprecated in version 0.20 and will be removed in 0.22. You can use the ColumnTransformer instead.\n",
      "  \"use the ColumnTransformer instead.\", DeprecationWarning)\n"
     ]
    }
   ],
   "source": [
    "combined_data, categorical_idx = one_hot_encoding(combined_data, categoricals)"
   ]
  },
  {
   "cell_type": "code",
   "execution_count": 258,
   "metadata": {
    "scrolled": false
   },
   "outputs": [
    {
     "name": "stdout",
     "output_type": "stream",
     "text": [
      "Parse progress: |█████████████████████████████████████████████████████████| 100%\n",
      "Parse progress: |█████████████████████████████████████████████████████████| 100%\n"
     ]
    }
   ],
   "source": [
    "train_data = combined_data[:64667]\n",
    "train_data = np.column_stack((train_data, y_train[:]))\n",
    "data_train_h2o = h2o.H2OFrame(train_data)\n",
    "data_train_h2o[-1]=data_train_h2o[-1].asfactor()\n",
    "real_data = combined_data[64667:]\n",
    "data_test_h2o=h2o.H2OFrame(real_data)"
   ]
  },
  {
   "cell_type": "markdown",
   "metadata": {},
   "source": [
    "## Only for grid search \n"
   ]
  },
  {
   "cell_type": "code",
   "execution_count": 52,
   "metadata": {},
   "outputs": [],
   "source": [
    "from h2o.grid.grid_search import H2OGridSearch\n",
    "from h2o.estimators.gbm import H2OGradientBoostingEstimator\n",
    "grid_search_gbm = H2OGradientBoostingEstimator(\n",
    "    \n",
    "  ## early stopping once the validation AUC doesn't improve by at least 0.01% for 5 consecutive scoring events\n",
    "  stopping_rounds = 5, stopping_tolerance = 1e-4, stopping_metric = \"AUC\", \n",
    "\n",
    "  ## sample 80% of rows per tree\n",
    "  sample_rate = 1.0,                                                       \n",
    "\n",
    "  ## sample 80% of columns per split\n",
    "  col_sample_rate = 0.8,                                                   \n",
    "\n",
    "  ## fix a random number generator seed for reproducibility\n",
    "  seed = 1234,                                                             \n",
    "\n",
    "  ## score every 10 trees to make early stopping reproducible (it depends on the scoring interval)\n",
    "  score_tree_interval = 0\n",
    ") \n",
    "\n",
    "ss = data_train_h2o.split_frame(seed = 1)\n",
    "train = ss[0]\n",
    "val = ss[1]\n",
    "\n",
    "hyper_params2 = {\n",
    "    'learn_rate':[0.01, 0.02],\n",
    "    'max_depth':[2,4,6],\n",
    "    'ntrees':[500, 1000, 5000]}"
   ]
  },
  {
   "cell_type": "code",
   "execution_count": 53,
   "metadata": {
    "scrolled": true
   },
   "outputs": [
    {
     "name": "stdout",
     "output_type": "stream",
     "text": [
      "gbm Grid Build progress: |████████████████████████████████████████████████| 100%\n"
     ]
    }
   ],
   "source": [
    "grid = H2OGridSearch(grid_search_gbm, hyper_params2,\n",
    "                         grid_id='depth_grid',\n",
    "                         search_criteria={'strategy': \"Cartesian\"})\n",
    "#Train grid search\n",
    "grid.train(x=data_train_h2o.names[:255], \n",
    "           y=data_train_h2o.names[255],\n",
    "           training_frame=train,\n",
    "           validation_frame=val)"
   ]
  },
  {
   "cell_type": "code",
   "execution_count": 23,
   "metadata": {},
   "outputs": [],
   "source": [
    "grid_sorted = grid.get_grid(sort_by='auc',decreasing=True)"
   ]
  },
  {
   "cell_type": "code",
   "execution_count": 38,
   "metadata": {
    "scrolled": true
   },
   "outputs": [
    {
     "name": "stdout",
     "output_type": "stream",
     "text": [
      "{'default': 0.1, 'actual': 0.02}\n"
     ]
    }
   ],
   "source": [
    "print(grid_sorted.models[0].params['learn_rate'])"
   ]
  },
  {
   "cell_type": "code",
   "execution_count": 39,
   "metadata": {},
   "outputs": [
    {
     "name": "stdout",
     "output_type": "stream",
     "text": [
      "gbm Model Build progress: |███████████████████████████████████████████████| 100%\n"
     ]
    }
   ],
   "source": [
    "best_gbm = grid_sorted.models[0]\n",
    "best_gbm.train(x=data_train_h2o.names[:255],\\\n",
    "            y=data_train_h2o.names[255], training_frame=data_train_h2o, model_id=\"GBM_Titanic\")"
   ]
  },
  {
   "cell_type": "code",
   "execution_count": 42,
   "metadata": {},
   "outputs": [
    {
     "name": "stdout",
     "output_type": "stream",
     "text": [
      "gbm prediction progress: |████████████████████████████████████████████████| 100%\n"
     ]
    }
   ],
   "source": [
    "f=best_gbm.predict(test_data=data_test_h2o)"
   ]
  },
  {
   "cell_type": "code",
   "execution_count": 43,
   "metadata": {},
   "outputs": [],
   "source": [
    "f = f.as_data_frame()"
   ]
  },
  {
   "cell_type": "code",
   "execution_count": 47,
   "metadata": {},
   "outputs": [
    {
     "name": "stdout",
     "output_type": "stream",
     "text": [
      "16000\n"
     ]
    }
   ],
   "source": [
    "preds = np.array(f['p1'])\n",
    "process_for_submission(preds, 'h2o_gbm4')"
   ]
  },
  {
   "cell_type": "markdown",
   "metadata": {},
   "source": [
    "## Train an h2o gbm"
   ]
  },
  {
   "cell_type": "code",
   "execution_count": 245,
   "metadata": {},
   "outputs": [],
   "source": [
    "from h2o.estimators.gbm import H2OGradientBoostingEstimator\n"
   ]
  },
  {
   "cell_type": "code",
   "execution_count": null,
   "metadata": {},
   "outputs": [
    {
     "name": "stdout",
     "output_type": "stream",
     "text": [
      "gbm Model Build progress: |███████████████████████████████████████████████| 100%\n",
      "32 training score 0.813280794021894\n",
      "32 validation score 0.7896111372398464\n",
      "gbm Model Build progress: |█████████████████████████████████"
     ]
    }
   ],
   "source": [
    "# try a range of values for `nbins`\n",
    "\n",
    "ss = data_train_h2o.split_frame(seed = 1)\n",
    "train = ss[0]\n",
    "val = ss[1]\n",
    "\n",
    "bin_num = [32, 128]\n",
    "label = [ \"32\", \"128\"]\n",
    "for key, num in enumerate(bin_num):\n",
    "    # initialize the GBM estimator and set a seed for reproducibility\n",
    "    eeg_gbm = H2OGradientBoostingEstimator(## more trees is better if the learning rate is small enough \n",
    "  ## here, use \"more than enough\" trees - we have early stopping\n",
    "  ntrees = 13000,                                                            \n",
    "  learn_rate = 0.01,                                                         \n",
    "  stopping_rounds = 25, stopping_tolerance = 1e-4, stopping_metric = \"AUC\", \n",
    "  sample_rate = 1.0,                                                       \n",
    "  col_sample_rate = 0.8,                                                   \n",
    "  ## fix a random number generator seed for reproducibility\n",
    "  seed = 1234,                                                             \n",
    "  score_tree_interval = 0, max_depth=2)\n",
    "    \n",
    "    eeg_gbm.train(x=data_train_h2o.names[:-1],y=data_train_h2o.names[-1], training_frame=train, validation_frame=val, model_id=\"GBM_Titanic\")\n",
    "    # print the value used and AUC score for train and validation sets\n",
    "    print(label[key], 'training score', eeg_gbm.auc(train = True))\n",
    "    print(label[key], 'validation score', eeg_gbm.auc(valid = True))"
   ]
  },
  {
   "cell_type": "code",
   "execution_count": 259,
   "metadata": {},
   "outputs": [],
   "source": [
    "model = H2OGradientBoostingEstimator(## more trees is better if the learning rate is small enough \n",
    "  ## here, use \"more than enough\" trees - we have early stopping\n",
    "  ntrees = 15000,                                                            \n",
    "\n",
    "  ## smaller learning rate is better (this is a good value for most datasets, but see below for annealing)\n",
    "  learn_rate = 0.01,                                                         \n",
    "\n",
    "  ## early stopping once the validation AUC doesn't improve by at least 0.01% for 5 consecutive scoring events\n",
    "  stopping_rounds = 25, stopping_tolerance = 1e-4, stopping_metric = \"AUC\", \n",
    "\n",
    "  ## sample 80% of rows per tree\n",
    "  sample_rate = 1.0,                                                       \n",
    "\n",
    "  ## sample 80% of columns per split\n",
    "  col_sample_rate = 0.8,                                                   \n",
    "\n",
    "  ## fix a random number generator seed for reproducibility\n",
    "  seed = 1234,                                                             \n",
    "\n",
    "  ## score every 10 trees to make early stopping reproducible (it depends on the scoring interval)\n",
    "  score_tree_interval = 0, max_depth=2)"
   ]
  },
  {
   "cell_type": "code",
   "execution_count": 262,
   "metadata": {},
   "outputs": [
    {
     "name": "stdout",
     "output_type": "stream",
     "text": [
      "gbm Model Build progress: |███████████████████████████████████████████████| 100%\n"
     ]
    }
   ],
   "source": [
    "model.train(x=data_train_h2o.names[:-1],y=data_train_h2o.names[-1], training_frame=data_train_h2o, model_id=\"GBM_Titanic\")"
   ]
  },
  {
   "cell_type": "code",
   "execution_count": 263,
   "metadata": {},
   "outputs": [
    {
     "name": "stdout",
     "output_type": "stream",
     "text": [
      "Model Details\n",
      "=============\n",
      "H2OGradientBoostingEstimator :  Gradient Boosting Machine\n",
      "Model Key:  GBM_Titanic\n",
      "\n",
      "\n",
      "ModelMetricsBinomial: gbm\n",
      "** Reported on train data. **\n",
      "\n",
      "MSE: 0.14001813508541827\n",
      "RMSE: 0.37418997191990366\n",
      "LogLoss: 0.4355528850715301\n",
      "Mean Per-Class Error: 0.2600261694008936\n",
      "AUC: 0.8178246293639624\n",
      "pr_auc: 0.6294656759387818\n",
      "Gini: 0.6356492587279248\n",
      "Confusion Matrix (Act/Pred) for max f1 @ threshold = 0.3152614928537488: \n"
     ]
    },
    {
     "data": {
      "text/html": [
       "<div style=\"overflow:auto\"><table style=\"width:50%\"><tr><td><b></b></td>\n",
       "<td><b>0</b></td>\n",
       "<td><b>1</b></td>\n",
       "<td><b>Error</b></td>\n",
       "<td><b>Rate</b></td></tr>\n",
       "<tr><td>0</td>\n",
       "<td>39080.0</td>\n",
       "<td>9072.0</td>\n",
       "<td>0.1884</td>\n",
       "<td> (9072.0/48152.0)</td></tr>\n",
       "<tr><td>1</td>\n",
       "<td>5689.0</td>\n",
       "<td>10826.0</td>\n",
       "<td>0.3445</td>\n",
       "<td> (5689.0/16515.0)</td></tr>\n",
       "<tr><td>Total</td>\n",
       "<td>44769.0</td>\n",
       "<td>19898.0</td>\n",
       "<td>0.2283</td>\n",
       "<td> (14761.0/64667.0)</td></tr></table></div>"
      ],
      "text/plain": [
       "       0      1      Error    Rate\n",
       "-----  -----  -----  -------  -----------------\n",
       "0      39080  9072   0.1884   (9072.0/48152.0)\n",
       "1      5689   10826  0.3445   (5689.0/16515.0)\n",
       "Total  44769  19898  0.2283   (14761.0/64667.0)"
      ]
     },
     "metadata": {},
     "output_type": "display_data"
    },
    {
     "name": "stdout",
     "output_type": "stream",
     "text": [
      "Maximum Metrics: Maximum metrics at their respective thresholds\n",
      "\n"
     ]
    },
    {
     "data": {
      "text/html": [
       "<div style=\"overflow:auto\"><table style=\"width:50%\"><tr><td><b>metric</b></td>\n",
       "<td><b>threshold</b></td>\n",
       "<td><b>value</b></td>\n",
       "<td><b>idx</b></td></tr>\n",
       "<tr><td>max f1</td>\n",
       "<td>0.3152615</td>\n",
       "<td>0.5946228</td>\n",
       "<td>214.0</td></tr>\n",
       "<tr><td>max f2</td>\n",
       "<td>0.1647285</td>\n",
       "<td>0.7086117</td>\n",
       "<td>297.0</td></tr>\n",
       "<tr><td>max f0point5</td>\n",
       "<td>0.4774111</td>\n",
       "<td>0.6035538</td>\n",
       "<td>143.0</td></tr>\n",
       "<tr><td>max accuracy</td>\n",
       "<td>0.4896109</td>\n",
       "<td>0.8008567</td>\n",
       "<td>138.0</td></tr>\n",
       "<tr><td>max precision</td>\n",
       "<td>0.9863467</td>\n",
       "<td>1.0</td>\n",
       "<td>0.0</td></tr>\n",
       "<tr><td>max recall</td>\n",
       "<td>0.0169161</td>\n",
       "<td>1.0</td>\n",
       "<td>397.0</td></tr>\n",
       "<tr><td>max specificity</td>\n",
       "<td>0.9863467</td>\n",
       "<td>1.0</td>\n",
       "<td>0.0</td></tr>\n",
       "<tr><td>max absolute_mcc</td>\n",
       "<td>0.3266065</td>\n",
       "<td>0.4429800</td>\n",
       "<td>208.0</td></tr>\n",
       "<tr><td>max min_per_class_accuracy</td>\n",
       "<td>0.2584889</td>\n",
       "<td>0.7385155</td>\n",
       "<td>244.0</td></tr>\n",
       "<tr><td>max mean_per_class_accuracy</td>\n",
       "<td>0.2531133</td>\n",
       "<td>0.7399738</td>\n",
       "<td>247.0</td></tr></table></div>"
      ],
      "text/plain": [
       "metric                       threshold    value     idx\n",
       "---------------------------  -----------  --------  -----\n",
       "max f1                       0.315261     0.594623  214\n",
       "max f2                       0.164728     0.708612  297\n",
       "max f0point5                 0.477411     0.603554  143\n",
       "max accuracy                 0.489611     0.800857  138\n",
       "max precision                0.986347     1         0\n",
       "max recall                   0.0169161    1         397\n",
       "max specificity              0.986347     1         0\n",
       "max absolute_mcc             0.326607     0.44298   208\n",
       "max min_per_class_accuracy   0.258489     0.738516  244\n",
       "max mean_per_class_accuracy  0.253113     0.739974  247"
      ]
     },
     "metadata": {},
     "output_type": "display_data"
    },
    {
     "name": "stdout",
     "output_type": "stream",
     "text": [
      "Gains/Lift Table: Avg response rate: 25.54 %, avg score: 25.54 %\n",
      "\n"
     ]
    },
    {
     "data": {
      "text/html": [
       "<div style=\"overflow:auto\"><table style=\"width:50%\"><tr><td><b></b></td>\n",
       "<td><b>group</b></td>\n",
       "<td><b>cumulative_data_fraction</b></td>\n",
       "<td><b>lower_threshold</b></td>\n",
       "<td><b>lift</b></td>\n",
       "<td><b>cumulative_lift</b></td>\n",
       "<td><b>response_rate</b></td>\n",
       "<td><b>score</b></td>\n",
       "<td><b>cumulative_response_rate</b></td>\n",
       "<td><b>cumulative_score</b></td>\n",
       "<td><b>capture_rate</b></td>\n",
       "<td><b>cumulative_capture_rate</b></td>\n",
       "<td><b>gain</b></td>\n",
       "<td><b>cumulative_gain</b></td></tr>\n",
       "<tr><td></td>\n",
       "<td>1</td>\n",
       "<td>0.0100051</td>\n",
       "<td>0.8348318</td>\n",
       "<td>3.6493639</td>\n",
       "<td>3.6493639</td>\n",
       "<td>0.9319938</td>\n",
       "<td>0.8774413</td>\n",
       "<td>0.9319938</td>\n",
       "<td>0.8774413</td>\n",
       "<td>0.0365123</td>\n",
       "<td>0.0365123</td>\n",
       "<td>264.9363863</td>\n",
       "<td>264.9363863</td></tr>\n",
       "<tr><td></td>\n",
       "<td>2</td>\n",
       "<td>0.0200102</td>\n",
       "<td>0.7841759</td>\n",
       "<td>3.3891273</td>\n",
       "<td>3.5192456</td>\n",
       "<td>0.8655332</td>\n",
       "<td>0.8088051</td>\n",
       "<td>0.8987635</td>\n",
       "<td>0.8431232</td>\n",
       "<td>0.0339086</td>\n",
       "<td>0.0704208</td>\n",
       "<td>238.9127303</td>\n",
       "<td>251.9245583</td></tr>\n",
       "<tr><td></td>\n",
       "<td>3</td>\n",
       "<td>0.0299998</td>\n",
       "<td>0.7455149</td>\n",
       "<td>3.1822253</td>\n",
       "<td>3.4070213</td>\n",
       "<td>0.8126935</td>\n",
       "<td>0.7634268</td>\n",
       "<td>0.8701031</td>\n",
       "<td>0.8165851</td>\n",
       "<td>0.0317893</td>\n",
       "<td>0.1022101</td>\n",
       "<td>218.2225278</td>\n",
       "<td>240.7021296</td></tr>\n",
       "<tr><td></td>\n",
       "<td>4</td>\n",
       "<td>0.0400049</td>\n",
       "<td>0.7117576</td>\n",
       "<td>3.1349428</td>\n",
       "<td>3.3389754</td>\n",
       "<td>0.8006182</td>\n",
       "<td>0.7287375</td>\n",
       "<td>0.8527252</td>\n",
       "<td>0.7946147</td>\n",
       "<td>0.0313654</td>\n",
       "<td>0.1335755</td>\n",
       "<td>213.4942755</td>\n",
       "<td>233.8975368</td></tr>\n",
       "<tr><td></td>\n",
       "<td>5</td>\n",
       "<td>0.0500101</td>\n",
       "<td>0.6819752</td>\n",
       "<td>2.9654864</td>\n",
       "<td>3.2642545</td>\n",
       "<td>0.7573416</td>\n",
       "<td>0.6968090</td>\n",
       "<td>0.8336425</td>\n",
       "<td>0.7750475</td>\n",
       "<td>0.0296700</td>\n",
       "<td>0.1632455</td>\n",
       "<td>196.5486390</td>\n",
       "<td>226.4254475</td></tr>\n",
       "<tr><td></td>\n",
       "<td>6</td>\n",
       "<td>0.1000046</td>\n",
       "<td>0.5748384</td>\n",
       "<td>2.5773302</td>\n",
       "<td>2.9208454</td>\n",
       "<td>0.6582122</td>\n",
       "<td>0.6252062</td>\n",
       "<td>0.7459409</td>\n",
       "<td>0.7001385</td>\n",
       "<td>0.1288526</td>\n",
       "<td>0.2920981</td>\n",
       "<td>157.7330154</td>\n",
       "<td>192.0845424</td></tr>\n",
       "<tr><td></td>\n",
       "<td>7</td>\n",
       "<td>0.1499992</td>\n",
       "<td>0.4914889</td>\n",
       "<td>2.2260963</td>\n",
       "<td>2.6892862</td>\n",
       "<td>0.5685122</td>\n",
       "<td>0.5312649</td>\n",
       "<td>0.6868041</td>\n",
       "<td>0.6438531</td>\n",
       "<td>0.1112928</td>\n",
       "<td>0.4033909</td>\n",
       "<td>122.6096251</td>\n",
       "<td>168.9286241</td></tr>\n",
       "<tr><td></td>\n",
       "<td>8</td>\n",
       "<td>0.2000093</td>\n",
       "<td>0.4250765</td>\n",
       "<td>1.8440132</td>\n",
       "<td>2.4779353</td>\n",
       "<td>0.4709338</td>\n",
       "<td>0.4573692</td>\n",
       "<td>0.6328282</td>\n",
       "<td>0.5972249</td>\n",
       "<td>0.0922192</td>\n",
       "<td>0.4956101</td>\n",
       "<td>84.4013192</td>\n",
       "<td>147.7935302</td></tr>\n",
       "<tr><td></td>\n",
       "<td>9</td>\n",
       "<td>0.2999985</td>\n",
       "<td>0.3208789</td>\n",
       "<td>1.5054612</td>\n",
       "<td>2.1538107</td>\n",
       "<td>0.3844726</td>\n",
       "<td>0.3697514</td>\n",
       "<td>0.5500515</td>\n",
       "<td>0.5214082</td>\n",
       "<td>0.1505298</td>\n",
       "<td>0.6461399</td>\n",
       "<td>50.5461175</td>\n",
       "<td>115.3810678</td></tr>\n",
       "<tr><td></td>\n",
       "<td>10</td>\n",
       "<td>0.4000031</td>\n",
       "<td>0.2466659</td>\n",
       "<td>1.1098486</td>\n",
       "<td>1.8928101</td>\n",
       "<td>0.2834390</td>\n",
       "<td>0.2821015</td>\n",
       "<td>0.4833958</td>\n",
       "<td>0.4615792</td>\n",
       "<td>0.1109900</td>\n",
       "<td>0.7571299</td>\n",
       "<td>10.9848603</td>\n",
       "<td>89.2810070</td></tr>\n",
       "<tr><td></td>\n",
       "<td>11</td>\n",
       "<td>0.5000077</td>\n",
       "<td>0.1899904</td>\n",
       "<td>0.8204282</td>\n",
       "<td>1.6783271</td>\n",
       "<td>0.2095253</td>\n",
       "<td>0.2169945</td>\n",
       "<td>0.4286200</td>\n",
       "<td>0.4126608</td>\n",
       "<td>0.0820466</td>\n",
       "<td>0.8391765</td>\n",
       "<td>-17.9571818</td>\n",
       "<td>67.8327059</td></tr>\n",
       "<tr><td></td>\n",
       "<td>12</td>\n",
       "<td>0.5999969</td>\n",
       "<td>0.1459111</td>\n",
       "<td>0.5898307</td>\n",
       "<td>1.4969297</td>\n",
       "<td>0.1506341</td>\n",
       "<td>0.1673062</td>\n",
       "<td>0.3822938</td>\n",
       "<td>0.3717726</td>\n",
       "<td>0.0589767</td>\n",
       "<td>0.8981532</td>\n",
       "<td>-41.0169274</td>\n",
       "<td>49.6929706</td></tr>\n",
       "<tr><td></td>\n",
       "<td>13</td>\n",
       "<td>0.7000015</td>\n",
       "<td>0.1101412</td>\n",
       "<td>0.4413964</td>\n",
       "<td>1.3461326</td>\n",
       "<td>0.1127261</td>\n",
       "<td>0.1277903</td>\n",
       "<td>0.3437824</td>\n",
       "<td>0.3369164</td>\n",
       "<td>0.0441417</td>\n",
       "<td>0.9422949</td>\n",
       "<td>-55.8603583</td>\n",
       "<td>34.6132574</td></tr>\n",
       "<tr><td></td>\n",
       "<td>14</td>\n",
       "<td>0.7999907</td>\n",
       "<td>0.0789261</td>\n",
       "<td>0.3118715</td>\n",
       "<td>1.2168624</td>\n",
       "<td>0.0796474</td>\n",
       "<td>0.0941192</td>\n",
       "<td>0.3107688</td>\n",
       "<td>0.3065697</td>\n",
       "<td>0.0311838</td>\n",
       "<td>0.9734787</td>\n",
       "<td>-68.8128518</td>\n",
       "<td>21.6862433</td></tr>\n",
       "<tr><td></td>\n",
       "<td>15</td>\n",
       "<td>0.8999954</td>\n",
       "<td>0.0511439</td>\n",
       "<td>0.1834611</td>\n",
       "<td>1.1020341</td>\n",
       "<td>0.0468533</td>\n",
       "<td>0.0646763</td>\n",
       "<td>0.2814433</td>\n",
       "<td>0.2796913</td>\n",
       "<td>0.0183470</td>\n",
       "<td>0.9918256</td>\n",
       "<td>-81.6538938</td>\n",
       "<td>10.2034140</td></tr>\n",
       "<tr><td></td>\n",
       "<td>16</td>\n",
       "<td>1.0</td>\n",
       "<td>0.0074357</td>\n",
       "<td>0.0817401</td>\n",
       "<td>1.0</td>\n",
       "<td>0.0208752</td>\n",
       "<td>0.0366442</td>\n",
       "<td>0.2553853</td>\n",
       "<td>0.2553854</td>\n",
       "<td>0.0081744</td>\n",
       "<td>1.0</td>\n",
       "<td>-91.8259923</td>\n",
       "<td>0.0</td></tr></table></div>"
      ],
      "text/plain": [
       "    group    cumulative_data_fraction    lower_threshold    lift       cumulative_lift    response_rate    score      cumulative_response_rate    cumulative_score    capture_rate    cumulative_capture_rate    gain      cumulative_gain\n",
       "--  -------  --------------------------  -----------------  ---------  -----------------  ---------------  ---------  --------------------------  ------------------  --------------  -------------------------  --------  -----------------\n",
       "    1        0.0100051                   0.834832           3.64936    3.64936            0.931994         0.877441   0.931994                    0.877441            0.0365123       0.0365123                  264.936   264.936\n",
       "    2        0.0200102                   0.784176           3.38913    3.51925            0.865533         0.808805   0.898764                    0.843123            0.0339086       0.0704208                  238.913   251.925\n",
       "    3        0.0299998                   0.745515           3.18223    3.40702            0.812693         0.763427   0.870103                    0.816585            0.0317893       0.10221                    218.223   240.702\n",
       "    4        0.0400049                   0.711758           3.13494    3.33898            0.800618         0.728737   0.852725                    0.794615            0.0313654       0.133576                   213.494   233.898\n",
       "    5        0.0500101                   0.681975           2.96549    3.26425            0.757342         0.696809   0.833643                    0.775048            0.02967         0.163246                   196.549   226.425\n",
       "    6        0.100005                    0.574838           2.57733    2.92085            0.658212         0.625206   0.745941                    0.700138            0.128853        0.292098                   157.733   192.085\n",
       "    7        0.149999                    0.491489           2.2261     2.68929            0.568512         0.531265   0.686804                    0.643853            0.111293        0.403391                   122.61    168.929\n",
       "    8        0.200009                    0.425076           1.84401    2.47794            0.470934         0.457369   0.632828                    0.597225            0.0922192       0.49561                    84.4013   147.794\n",
       "    9        0.299998                    0.320879           1.50546    2.15381            0.384473         0.369751   0.550052                    0.521408            0.15053         0.64614                    50.5461   115.381\n",
       "    10       0.400003                    0.246666           1.10985    1.89281            0.283439         0.282102   0.483396                    0.461579            0.11099         0.75713                    10.9849   89.281\n",
       "    11       0.500008                    0.18999            0.820428   1.67833            0.209525         0.216994   0.42862                     0.412661            0.0820466       0.839177                   -17.9572  67.8327\n",
       "    12       0.599997                    0.145911           0.589831   1.49693            0.150634         0.167306   0.382294                    0.371773            0.0589767       0.898153                   -41.0169  49.693\n",
       "    13       0.700002                    0.110141           0.441396   1.34613            0.112726         0.12779    0.343782                    0.336916            0.0441417       0.942295                   -55.8604  34.6133\n",
       "    14       0.799991                    0.0789261          0.311871   1.21686            0.0796474        0.0941192  0.310769                    0.30657             0.0311838       0.973479                   -68.8129  21.6862\n",
       "    15       0.899995                    0.0511439          0.183461   1.10203            0.0468533        0.0646763  0.281443                    0.279691            0.018347        0.991826                   -81.6539  10.2034\n",
       "    16       1                           0.00743569         0.0817401  1                  0.0208752        0.0366442  0.255385                    0.255385            0.00817439      1                          -91.826   0"
      ]
     },
     "metadata": {},
     "output_type": "display_data"
    },
    {
     "name": "stdout",
     "output_type": "stream",
     "text": [
      "\n",
      "Scoring History: \n"
     ]
    },
    {
     "data": {
      "text/html": [
       "<div style=\"overflow:auto\"><table style=\"width:50%\"><tr><td><b></b></td>\n",
       "<td><b>timestamp</b></td>\n",
       "<td><b>duration</b></td>\n",
       "<td><b>number_of_trees</b></td>\n",
       "<td><b>training_rmse</b></td>\n",
       "<td><b>training_logloss</b></td>\n",
       "<td><b>training_auc</b></td>\n",
       "<td><b>training_pr_auc</b></td>\n",
       "<td><b>training_lift</b></td>\n",
       "<td><b>training_classification_error</b></td></tr>\n",
       "<tr><td></td>\n",
       "<td>2019-02-10 14:56:52</td>\n",
       "<td> 0.002 sec</td>\n",
       "<td>0.0</td>\n",
       "<td>0.4360776</td>\n",
       "<td>0.5681745</td>\n",
       "<td>0.5</td>\n",
       "<td>0.0</td>\n",
       "<td>1.0</td>\n",
       "<td>0.7446147</td></tr>\n",
       "<tr><td></td>\n",
       "<td>2019-02-10 14:56:53</td>\n",
       "<td> 0.235 sec</td>\n",
       "<td>1.0</td>\n",
       "<td>0.4356344</td>\n",
       "<td>0.5671600</td>\n",
       "<td>0.6979383</td>\n",
       "<td>0.2675724</td>\n",
       "<td>2.0295912</td>\n",
       "<td>0.3456477</td></tr>\n",
       "<tr><td></td>\n",
       "<td>2019-02-10 14:56:53</td>\n",
       "<td> 0.355 sec</td>\n",
       "<td>2.0</td>\n",
       "<td>0.4352342</td>\n",
       "<td>0.5662462</td>\n",
       "<td>0.7124006</td>\n",
       "<td>0.3708066</td>\n",
       "<td>2.2747512</td>\n",
       "<td>0.3692764</td></tr>\n",
       "<tr><td></td>\n",
       "<td>2019-02-10 14:56:53</td>\n",
       "<td> 0.472 sec</td>\n",
       "<td>3.0</td>\n",
       "<td>0.4348053</td>\n",
       "<td>0.5652699</td>\n",
       "<td>0.7132058</td>\n",
       "<td>0.3712745</td>\n",
       "<td>2.2747512</td>\n",
       "<td>0.3692764</td></tr>\n",
       "<tr><td></td>\n",
       "<td>2019-02-10 14:56:53</td>\n",
       "<td> 0.601 sec</td>\n",
       "<td>4.0</td>\n",
       "<td>0.4343832</td>\n",
       "<td>0.5643124</td>\n",
       "<td>0.7205863</td>\n",
       "<td>0.3736771</td>\n",
       "<td>2.2747512</td>\n",
       "<td>0.3983021</td></tr>\n",
       "<tr><td>---</td>\n",
       "<td>---</td>\n",
       "<td>---</td>\n",
       "<td>---</td>\n",
       "<td>---</td>\n",
       "<td>---</td>\n",
       "<td>---</td>\n",
       "<td>---</td>\n",
       "<td>---</td>\n",
       "<td>---</td></tr>\n",
       "<tr><td></td>\n",
       "<td>2019-02-10 15:34:26</td>\n",
       "<td>37 min 33.404 sec</td>\n",
       "<td>14892.0</td>\n",
       "<td>0.3742570</td>\n",
       "<td>0.4356847</td>\n",
       "<td>0.8176866</td>\n",
       "<td>0.6291935</td>\n",
       "<td>3.6493639</td>\n",
       "<td>0.2296071</td></tr>\n",
       "<tr><td></td>\n",
       "<td>2019-02-10 15:34:30</td>\n",
       "<td>37 min 37.486 sec</td>\n",
       "<td>14919.0</td>\n",
       "<td>0.3742401</td>\n",
       "<td>0.4356515</td>\n",
       "<td>0.8177066</td>\n",
       "<td>0.6292573</td>\n",
       "<td>3.6493639</td>\n",
       "<td>0.2291431</td></tr>\n",
       "<tr><td></td>\n",
       "<td>2019-02-10 15:34:34</td>\n",
       "<td>37 min 41.555 sec</td>\n",
       "<td>14946.0</td>\n",
       "<td>0.3742240</td>\n",
       "<td>0.4356202</td>\n",
       "<td>0.8177376</td>\n",
       "<td>0.6293450</td>\n",
       "<td>3.6493639</td>\n",
       "<td>0.2303493</td></tr>\n",
       "<tr><td></td>\n",
       "<td>2019-02-10 15:34:38</td>\n",
       "<td>37 min 45.622 sec</td>\n",
       "<td>14973.0</td>\n",
       "<td>0.3742062</td>\n",
       "<td>0.4355853</td>\n",
       "<td>0.8177894</td>\n",
       "<td>0.6294324</td>\n",
       "<td>3.6493639</td>\n",
       "<td>0.2263906</td></tr>\n",
       "<tr><td></td>\n",
       "<td>2019-02-10 15:34:42</td>\n",
       "<td>37 min 49.614 sec</td>\n",
       "<td>15000.0</td>\n",
       "<td>0.3741900</td>\n",
       "<td>0.4355529</td>\n",
       "<td>0.8178246</td>\n",
       "<td>0.6294657</td>\n",
       "<td>3.6493639</td>\n",
       "<td>0.2282617</td></tr></table></div>"
      ],
      "text/plain": [
       "     timestamp            duration           number_of_trees    training_rmse        training_logloss     training_auc        training_pr_auc      training_lift       training_classification_error\n",
       "---  -------------------  -----------------  -----------------  -------------------  -------------------  ------------------  -------------------  ------------------  -------------------------------\n",
       "     2019-02-10 14:56:52  0.002 sec          0.0                0.43607756133806025  0.5681745099971214   0.5                 0.0                  1.0                 0.7446147184808326\n",
       "     2019-02-10 14:56:53  0.235 sec          1.0                0.43563442656835905  0.5671600082640722   0.6979382594686914  0.26757237683195656  2.0295911978717043  0.34564770284689256\n",
       "     2019-02-10 14:56:53  0.355 sec          2.0                0.4352341855320346   0.5662461584830695   0.712400569052778   0.37080662364628775  2.2747511889205385  0.36927644702862356\n",
       "     2019-02-10 14:56:53  0.472 sec          3.0                0.4348053459325596   0.56526990870442     0.7132058125352068  0.371274497954533    2.2747511889205385  0.36927644702862356\n",
       "     2019-02-10 14:56:53  0.601 sec          4.0                0.4343832281468949   0.5643124323957502   0.7205863306663826  0.3736770741018164   2.2747511889205385  0.3983020706078835\n",
       "---  ---                  ---                ---                ---                  ---                  ---                 ---                  ---                 ---\n",
       "     2019-02-10 15:34:26  37 min 33.404 sec  14892.0            0.37425696982489115  0.4356847278013737   0.8176866014206602  0.6291935407270457   3.6493638633980345  0.22960706388111402\n",
       "     2019-02-10 15:34:30  37 min 37.486 sec  14919.0            0.37424014501713343  0.43565148803856685  0.817706616377837   0.6292572914432801   3.6493638633980345  0.22914314874665595\n",
       "     2019-02-10 15:34:34  37 min 41.555 sec  14946.0            0.37422403800815945  0.4356202217224911   0.8177375979697353  0.6293449905409058   3.6493638633980345  0.23034932809624692\n",
       "     2019-02-10 15:34:38  37 min 45.622 sec  14973.0            0.37420624628510857  0.4355852628183471   0.8177894427007986  0.6294323582878947   3.6493638633980345  0.22639058561553807\n",
       "     2019-02-10 15:34:42  37 min 49.614 sec  15000.0            0.37418997191990366  0.4355528850715301   0.8178246293639624  0.6294656759387818   3.6493638633980345  0.2282617099911856"
      ]
     },
     "metadata": {},
     "output_type": "display_data"
    },
    {
     "name": "stdout",
     "output_type": "stream",
     "text": [
      "\n",
      "See the whole table with table.as_data_frame()\n",
      "Variable Importances: \n"
     ]
    },
    {
     "data": {
      "text/html": [
       "<div style=\"overflow:auto\"><table style=\"width:50%\"><tr><td><b>variable</b></td>\n",
       "<td><b>relative_importance</b></td>\n",
       "<td><b>scaled_importance</b></td>\n",
       "<td><b>percentage</b></td></tr>\n",
       "<tr><td>C211</td>\n",
       "<td>53674.1445312</td>\n",
       "<td>1.0</td>\n",
       "<td>0.3388562</td></tr>\n",
       "<tr><td>C209</td>\n",
       "<td>19996.7304688</td>\n",
       "<td>0.3725580</td>\n",
       "<td>0.1262436</td></tr>\n",
       "<tr><td>C1</td>\n",
       "<td>8975.8466797</td>\n",
       "<td>0.1672285</td>\n",
       "<td>0.0566664</td></tr>\n",
       "<tr><td>C212</td>\n",
       "<td>5952.3139648</td>\n",
       "<td>0.1108972</td>\n",
       "<td>0.0375782</td></tr>\n",
       "<tr><td>C207</td>\n",
       "<td>5367.3623047</td>\n",
       "<td>0.0999990</td>\n",
       "<td>0.0338853</td></tr>\n",
       "<tr><td>---</td>\n",
       "<td>---</td>\n",
       "<td>---</td>\n",
       "<td>---</td></tr>\n",
       "<tr><td>C436</td>\n",
       "<td>0.0</td>\n",
       "<td>0.0</td>\n",
       "<td>0.0</td></tr>\n",
       "<tr><td>C442</td>\n",
       "<td>0.0</td>\n",
       "<td>0.0</td>\n",
       "<td>0.0</td></tr>\n",
       "<tr><td>C445</td>\n",
       "<td>0.0</td>\n",
       "<td>0.0</td>\n",
       "<td>0.0</td></tr>\n",
       "<tr><td>C446</td>\n",
       "<td>0.0</td>\n",
       "<td>0.0</td>\n",
       "<td>0.0</td></tr>\n",
       "<tr><td>C469</td>\n",
       "<td>0.0</td>\n",
       "<td>0.0</td>\n",
       "<td>0.0</td></tr></table></div>"
      ],
      "text/plain": [
       "variable    relative_importance    scaled_importance    percentage\n",
       "----------  ---------------------  -------------------  --------------------\n",
       "C211        53674.14453125         1.0                  0.3388562029524765\n",
       "C209        19996.73046875         0.3725579726213906   0.1262435799821571\n",
       "C1          8975.8466796875        0.16722850001757567  0.05666641454139384\n",
       "C212        5952.31396484375       0.11089723025540187  0.037578214362291966\n",
       "C207        5367.3623046875        0.0999990284253628   0.0338852910711552\n",
       "---         ---                    ---                  ---\n",
       "C436        0.0                    0.0                  0.0\n",
       "C442        0.0                    0.0                  0.0\n",
       "C445        0.0                    0.0                  0.0\n",
       "C446        0.0                    0.0                  0.0\n",
       "C469        0.0                    0.0                  0.0"
      ]
     },
     "metadata": {},
     "output_type": "display_data"
    },
    {
     "name": "stdout",
     "output_type": "stream",
     "text": [
      "\n",
      "See the whole table with table.as_data_frame()\n"
     ]
    },
    {
     "data": {
      "text/plain": []
     },
     "execution_count": 263,
     "metadata": {},
     "output_type": "execute_result"
    }
   ],
   "source": [
    "model"
   ]
  },
  {
   "cell_type": "code",
   "execution_count": 249,
   "metadata": {},
   "outputs": [
    {
     "name": "stdout",
     "output_type": "stream",
     "text": [
      "gbm prediction progress: |████████████████████████████████████████████████| 100%\n"
     ]
    }
   ],
   "source": [
    "f=model.predict(test_data=data_test_h2o)"
   ]
  },
  {
   "cell_type": "code",
   "execution_count": 270,
   "metadata": {},
   "outputs": [],
   "source": [
    "f = f.as_data_frame()"
   ]
  },
  {
   "cell_type": "code",
   "execution_count": 271,
   "metadata": {},
   "outputs": [
    {
     "name": "stdout",
     "output_type": "stream",
     "text": [
      "       predict        p0        p1\n",
      "0            0  0.832244  0.167756\n",
      "1            0  0.929789  0.070211\n",
      "2            0  0.852262  0.147738\n",
      "3            1  0.457112  0.542888\n",
      "4            0  0.786686  0.213314\n",
      "5            0  0.927433  0.072567\n",
      "6            1  0.212193  0.787807\n",
      "7            1  0.252639  0.747361\n",
      "8            0  0.965614  0.034386\n",
      "9            0  0.751284  0.248716\n",
      "10           0  0.965649  0.034351\n",
      "11           1  0.481813  0.518187\n",
      "12           1  0.674790  0.325210\n",
      "13           0  0.751864  0.248136\n",
      "14           0  0.773860  0.226140\n",
      "15           0  0.900516  0.099484\n",
      "16           1  0.658673  0.341327\n",
      "17           0  0.955263  0.044737\n",
      "18           0  0.796914  0.203086\n",
      "19           1  0.676083  0.323917\n",
      "20           1  0.680705  0.319295\n",
      "21           0  0.868890  0.131110\n",
      "22           0  0.930602  0.069398\n",
      "23           0  0.944869  0.055131\n",
      "24           0  0.828930  0.171070\n",
      "25           0  0.972047  0.027953\n",
      "26           0  0.973665  0.026335\n",
      "27           1  0.470963  0.529037\n",
      "28           1  0.133884  0.866116\n",
      "29           0  0.756400  0.243600\n",
      "...        ...       ...       ...\n",
      "15970        0  0.690973  0.309027\n",
      "15971        0  0.815882  0.184118\n",
      "15972        1  0.536837  0.463163\n",
      "15973        0  0.947265  0.052735\n",
      "15974        1  0.214536  0.785464\n",
      "15975        0  0.873674  0.126326\n",
      "15976        0  0.935550  0.064450\n",
      "15977        0  0.772087  0.227913\n",
      "15978        0  0.859876  0.140124\n",
      "15979        0  0.874154  0.125846\n",
      "15980        1  0.497893  0.502107\n",
      "15981        0  0.797246  0.202754\n",
      "15982        0  0.960719  0.039281\n",
      "15983        1  0.387587  0.612413\n",
      "15984        0  0.730243  0.269757\n",
      "15985        1  0.485288  0.514712\n",
      "15986        0  0.719241  0.280759\n",
      "15987        0  0.956937  0.043063\n",
      "15988        1  0.556999  0.443001\n",
      "15989        0  0.896286  0.103714\n",
      "15990        1  0.449223  0.550777\n",
      "15991        1  0.203505  0.796495\n",
      "15992        0  0.705872  0.294128\n",
      "15993        0  0.876606  0.123394\n",
      "15994        0  0.852471  0.147529\n",
      "15995        0  0.827381  0.172619\n",
      "15996        1  0.396354  0.603646\n",
      "15997        0  0.863173  0.136827\n",
      "15998        0  0.938857  0.061143\n",
      "15999        0  0.813801  0.186199\n",
      "\n",
      "[16000 rows x 3 columns]\n"
     ]
    }
   ],
   "source": [
    "print(f)"
   ]
  },
  {
   "cell_type": "code",
   "execution_count": 272,
   "metadata": {},
   "outputs": [],
   "source": [
    "preds = np.array(f['p1'])"
   ]
  },
  {
   "cell_type": "code",
   "execution_count": 273,
   "metadata": {},
   "outputs": [
    {
     "name": "stdout",
     "output_type": "stream",
     "text": [
      "16000\n"
     ]
    }
   ],
   "source": [
    "process_for_submission(preds, 'h2o_gbm13')"
   ]
  },
  {
   "cell_type": "code",
   "execution_count": 264,
   "metadata": {},
   "outputs": [],
   "source": [
    "model_path = h2o.save_model(model=model, path=\"./mymodel\", force=True)"
   ]
  },
  {
   "cell_type": "code",
   "execution_count": null,
   "metadata": {},
   "outputs": [],
   "source": []
  },
  {
   "cell_type": "code",
   "execution_count": 203,
   "metadata": {},
   "outputs": [
    {
     "name": "stdout",
     "output_type": "stream",
     "text": [
      "/Users/pavanchitta/CS155-Project1/mymodel/GBM_Titanic\n"
     ]
    }
   ],
   "source": [
    "print(model_path)"
   ]
  },
  {
   "cell_type": "code",
   "execution_count": 204,
   "metadata": {},
   "outputs": [],
   "source": [
    "h2o_model1 = pd.read_csv('h2o_gbm3submission.csv')\n",
    "h2o_model2 = pd.read_csv('h2o_gbm6submission.csv')"
   ]
  },
  {
   "cell_type": "code",
   "execution_count": 133,
   "metadata": {},
   "outputs": [],
   "source": [
    "comb_h2o = pd.concat([h2o_model1, h2o_model2]).groupby(level=0).mean()"
   ]
  },
  {
   "cell_type": "code",
   "execution_count": 134,
   "metadata": {},
   "outputs": [],
   "source": [
    "comb_h2o.to_csv('comb_h2o_submission.csv', index=None)"
   ]
  },
  {
   "cell_type": "code",
   "execution_count": 267,
   "metadata": {},
   "outputs": [],
   "source": [
    "saved_model2 = h2o.load_model('/Users/pavanchitta/CS155-Project1/mymodel/h2o_gbm_15000_to_submit')"
   ]
  },
  {
   "cell_type": "code",
   "execution_count": 269,
   "metadata": {},
   "outputs": [
    {
     "name": "stdout",
     "output_type": "stream",
     "text": [
      "gbm prediction progress: |████████████████████████████████████████████████| 100%\n"
     ]
    }
   ],
   "source": [
    "f=saved_model2.predict(test_data=data_test_h2o)"
   ]
  },
  {
   "cell_type": "code",
   "execution_count": null,
   "metadata": {},
   "outputs": [],
   "source": []
  }
 ],
 "metadata": {
  "kernelspec": {
   "display_name": "Python 3",
   "language": "python",
   "name": "python3"
  },
  "language_info": {
   "codemirror_mode": {
    "name": "ipython",
    "version": 3
   },
   "file_extension": ".py",
   "mimetype": "text/x-python",
   "name": "python",
   "nbconvert_exporter": "python",
   "pygments_lexer": "ipython3",
   "version": "3.6.2"
  }
 },
 "nbformat": 4,
 "nbformat_minor": 2
}
